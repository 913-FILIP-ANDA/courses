{
 "cells": [
  {
   "cell_type": "markdown",
   "metadata": {},
   "source": [
    "# Logistic Regression\n",
    "## Dataset\n",
    "\n",
    "### Source\n",
    "W.E.L. Pena, P.R. De Massaguer, A.D.G. Zuniga, and S.H. Saraiva (2011).\n",
    "\n",
    "\"Modeling the Growth Limit of Alicyclobacillus Acidoterrestris CRA7152\n",
    "\n",
    "in Apple Juice: Effect of pH, Brix, Temperature, and Nisin Concentration,\"\n",
    "\n",
    "Journal of Food Processing and Preservation, Vol. 35, pp. 509-517.\n",
    "\n",
    "### Description\n",
    "\n",
    "Presence/Absence of growth of CRA7152 in apple juice\n",
    "\n",
    "as a function of pH (3.5-5.5), Brix (11-19), temperature (25-50C),\n",
    "\n",
    "and Nisin concentration (0-70)\n",
    "\n",
    "\n",
    "### Paper\n",
    "Read paper [here](paper.pdf)\n",
    "\n",
    "\n",
    "### Variables/Columns\n",
    "pH   5-8\n",
    "\n",
    "Nisin concentration  (13-16)\n",
    "\n",
    "Temperature  22-24\n",
    "\n",
    "Brix Concentration 30-32\n",
    "\n",
    "Growth   40  /* 1=Yes, 0=No  */\n"
   ]
  },
  {
   "cell_type": "code",
   "execution_count": 1,
   "metadata": {},
   "outputs": [
    {
     "name": "stderr",
     "output_type": "stream",
     "text": [
      "Loading required package: gplots\n",
      "Warning message:\n",
      "“package ‘gplots’ was built under R version 3.5.2”\n",
      "Attaching package: ‘gplots’\n",
      "\n",
      "The following object is masked from ‘package:stats’:\n",
      "\n",
      "    lowess\n",
      "\n",
      "Warning message:\n",
      "“package ‘caret’ was built under R version 3.5.2”Loading required package: lattice\n",
      "Loading required package: ggplot2\n",
      "Warning message:\n",
      "“package ‘ggplot2’ was built under R version 3.5.2”"
     ]
    }
   ],
   "source": [
    "library(MASS)\n",
    "library(ROCR)\n",
    "library(caret)"
   ]
  },
  {
   "cell_type": "code",
   "execution_count": 2,
   "metadata": {},
   "outputs": [],
   "source": [
    "data <- read.table(\"apple_juice.dat\",\n",
    "                   sep=\"\",\n",
    "                   col.names=c(\"pH\", \"NisinConcentration\", \"Temperature\",\n",
    "                               \"BrixConcentration\", \"Growth\"))"
   ]
  },
  {
   "cell_type": "code",
   "execution_count": 3,
   "metadata": {},
   "outputs": [
    {
     "data": {
      "text/html": [
       "<table>\n",
       "<caption>A data.frame: 6 × 5</caption>\n",
       "<thead>\n",
       "\t<tr><th scope=col>pH</th><th scope=col>NisinConcentration</th><th scope=col>Temperature</th><th scope=col>BrixConcentration</th><th scope=col>Growth</th></tr>\n",
       "\t<tr><th scope=col>&lt;dbl&gt;</th><th scope=col>&lt;int&gt;</th><th scope=col>&lt;int&gt;</th><th scope=col>&lt;int&gt;</th><th scope=col>&lt;int&gt;</th></tr>\n",
       "</thead>\n",
       "<tbody>\n",
       "\t<tr><td>5.5</td><td>70</td><td>50</td><td>11</td><td>0</td></tr>\n",
       "\t<tr><td>5.5</td><td>70</td><td>43</td><td>19</td><td>0</td></tr>\n",
       "\t<tr><td>5.5</td><td>50</td><td>43</td><td>13</td><td>1</td></tr>\n",
       "\t<tr><td>5.5</td><td>50</td><td>35</td><td>15</td><td>1</td></tr>\n",
       "\t<tr><td>5.5</td><td>30</td><td>35</td><td>13</td><td>1</td></tr>\n",
       "\t<tr><td>5.5</td><td>30</td><td>25</td><td>11</td><td>0</td></tr>\n",
       "</tbody>\n",
       "</table>\n"
      ],
      "text/latex": [
       "A data.frame: 6 × 5\n",
       "\\begin{tabular}{r|lllll}\n",
       " pH & NisinConcentration & Temperature & BrixConcentration & Growth\\\\\n",
       " <dbl> & <int> & <int> & <int> & <int>\\\\\n",
       "\\hline\n",
       "\t 5.5 & 70 & 50 & 11 & 0\\\\\n",
       "\t 5.5 & 70 & 43 & 19 & 0\\\\\n",
       "\t 5.5 & 50 & 43 & 13 & 1\\\\\n",
       "\t 5.5 & 50 & 35 & 15 & 1\\\\\n",
       "\t 5.5 & 30 & 35 & 13 & 1\\\\\n",
       "\t 5.5 & 30 & 25 & 11 & 0\\\\\n",
       "\\end{tabular}\n"
      ],
      "text/markdown": [
       "\n",
       "A data.frame: 6 × 5\n",
       "\n",
       "| pH &lt;dbl&gt; | NisinConcentration &lt;int&gt; | Temperature &lt;int&gt; | BrixConcentration &lt;int&gt; | Growth &lt;int&gt; |\n",
       "|---|---|---|---|---|\n",
       "| 5.5 | 70 | 50 | 11 | 0 |\n",
       "| 5.5 | 70 | 43 | 19 | 0 |\n",
       "| 5.5 | 50 | 43 | 13 | 1 |\n",
       "| 5.5 | 50 | 35 | 15 | 1 |\n",
       "| 5.5 | 30 | 35 | 13 | 1 |\n",
       "| 5.5 | 30 | 25 | 11 | 0 |\n",
       "\n"
      ],
      "text/plain": [
       "  pH  NisinConcentration Temperature BrixConcentration Growth\n",
       "1 5.5 70                 50          11                0     \n",
       "2 5.5 70                 43          19                0     \n",
       "3 5.5 50                 43          13                1     \n",
       "4 5.5 50                 35          15                1     \n",
       "5 5.5 30                 35          13                1     \n",
       "6 5.5 30                 25          11                0     "
      ]
     },
     "metadata": {},
     "output_type": "display_data"
    }
   ],
   "source": [
    "head(data)"
   ]
  },
  {
   "cell_type": "code",
   "execution_count": 4,
   "metadata": {},
   "outputs": [
    {
     "data": {
      "text/plain": [
       "       pH        NisinConcentration  Temperature    BrixConcentration\n",
       " Min.   :3.500   Min.   : 0.00      Min.   :25.00   Min.   :11.00    \n",
       " 1st Qu.:4.000   1st Qu.: 0.00      1st Qu.:35.00   1st Qu.:11.00    \n",
       " Median :4.000   Median :30.00      Median :43.00   Median :13.00    \n",
       " Mean   :4.486   Mean   :35.14      Mean   :38.38   Mean   :14.24    \n",
       " 3rd Qu.:5.000   3rd Qu.:50.00      3rd Qu.:43.00   3rd Qu.:15.00    \n",
       " Max.   :5.500   Max.   :70.00      Max.   :50.00   Max.   :19.00    \n",
       "     Growth      \n",
       " Min.   :0.0000  \n",
       " 1st Qu.:0.0000  \n",
       " Median :0.0000  \n",
       " Mean   :0.3514  \n",
       " 3rd Qu.:1.0000  \n",
       " Max.   :1.0000  "
      ]
     },
     "metadata": {},
     "output_type": "display_data"
    },
    {
     "data": {
      "text/html": [
       "74"
      ],
      "text/latex": [
       "74"
      ],
      "text/markdown": [
       "74"
      ],
      "text/plain": [
       "[1] 74"
      ]
     },
     "metadata": {},
     "output_type": "display_data"
    },
    {
     "name": "stdout",
     "output_type": "stream",
     "text": [
      "[1] 26\n",
      "[1] 48\n"
     ]
    },
    {
     "data": {
      "text/html": [
       "<strong>pdf:</strong> 2"
      ],
      "text/latex": [
       "\\textbf{pdf:} 2"
      ],
      "text/markdown": [
       "**pdf:** 2"
      ],
      "text/plain": [
       "pdf \n",
       "  2 "
      ]
     },
     "metadata": {},
     "output_type": "display_data"
    }
   ],
   "source": [
    "summary(data)\n",
    "nrow(data)\n",
    "\n",
    "print(nrow(subset(data, Growth == 1)))\n",
    "print(nrow(subset(data, Growth == 0)))\n",
    "\n",
    "jpeg(\"label_dist.jpg\", width = 750, height = 750)\n",
    "barplot(table(data$Growth), main=\"Response variable distribution\",\n",
    "       xlab=\"Growth\")\n",
    "dev.off()"
   ]
  },
  {
   "cell_type": "code",
   "execution_count": 5,
   "metadata": {},
   "outputs": [
    {
     "data": {
      "text/html": [
       "<strong>pdf:</strong> 2"
      ],
      "text/latex": [
       "\\textbf{pdf:} 2"
      ],
      "text/markdown": [
       "**pdf:** 2"
      ],
      "text/plain": [
       "pdf \n",
       "  2 "
      ]
     },
     "metadata": {},
     "output_type": "display_data"
    }
   ],
   "source": [
    "# 1. Open file\n",
    "svg(filename=\"label_dist.svg\", \n",
    "    width=5,\n",
    "    height=5,\n",
    "    pointsize=12)\n",
    "\n",
    "# 2. Create the plot\n",
    "barplot(table(data$Growth), main=\"Response variable distribution\",\n",
    "       xlab=\"Growth\")\n",
    "# 3. Close the file\n",
    "dev.off()"
   ]
  },
  {
   "cell_type": "code",
   "execution_count": 6,
   "metadata": {},
   "outputs": [
    {
     "data": {
      "text/html": [
       "<strong>pdf:</strong> 2"
      ],
      "text/latex": [
       "\\textbf{pdf:} 2"
      ],
      "text/markdown": [
       "**pdf:** 2"
      ],
      "text/plain": [
       "pdf \n",
       "  2 "
      ]
     },
     "metadata": {},
     "output_type": "display_data"
    }
   ],
   "source": [
    "svg(filename=\"var_dist.svg\", \n",
    "    width=6,\n",
    "    height=6,\n",
    "    pointsize=12)\n",
    "\n",
    "par(mfrow=c(2,2))\n",
    "for(i in 1:4) {\n",
    "    hist(data[,i], main = names(data)[i], col=\"gray\", xlab = names(data)[i], cex.lab=1.5, cex.axis=1.5, cex.main=1.5, cex.sub=1.5)\n",
    "}\n",
    "\n",
    "dev.off()"
   ]
  },
  {
   "cell_type": "code",
   "execution_count": 7,
   "metadata": {},
   "outputs": [
    {
     "data": {
      "text/html": [
       "<strong>pdf:</strong> 2"
      ],
      "text/latex": [
       "\\textbf{pdf:} 2"
      ],
      "text/markdown": [
       "**pdf:** 2"
      ],
      "text/plain": [
       "pdf \n",
       "  2 "
      ]
     },
     "metadata": {},
     "output_type": "display_data"
    }
   ],
   "source": [
    "svg(filename=\"var_box.svg\", \n",
    "    width=6,\n",
    "    height=6,\n",
    "    pointsize=12)\n",
    "\n",
    "par(mfrow=c(2,2))\n",
    "for(i in 1:4) {\n",
    "    boxplot(data[,i], main=names(data)[i], cex.lab=1.5, cex.axis=1.5, cex.main=1.5, cex.sub=1.5)\n",
    "}\n",
    "dev.off()"
   ]
  },
  {
   "cell_type": "code",
   "execution_count": 8,
   "metadata": {},
   "outputs": [
    {
     "data": {
      "text/html": [
       "<table>\n",
       "<caption>A data.frame: 6 × 5</caption>\n",
       "<thead>\n",
       "\t<tr><th scope=col>pH</th><th scope=col>NisinConcentration</th><th scope=col>Temperature</th><th scope=col>BrixConcentration</th><th scope=col>Growth</th></tr>\n",
       "\t<tr><th scope=col>&lt;dbl&gt;</th><th scope=col>&lt;dbl&gt;</th><th scope=col>&lt;dbl&gt;</th><th scope=col>&lt;dbl&gt;</th><th scope=col>&lt;fct&gt;</th></tr>\n",
       "</thead>\n",
       "<tbody>\n",
       "\t<tr><td>1.283955</td><td> 1.2933386</td><td> 1.2524532</td><td>-1.0521548</td><td>0</td></tr>\n",
       "\t<tr><td>1.283955</td><td> 1.2933386</td><td> 0.4980686</td><td> 1.5431604</td><td>0</td></tr>\n",
       "\t<tr><td>1.283955</td><td> 0.5514235</td><td> 0.4980686</td><td>-0.4033260</td><td>1</td></tr>\n",
       "\t<tr><td>1.283955</td><td> 0.5514235</td><td>-0.3640852</td><td> 0.2455028</td><td>1</td></tr>\n",
       "\t<tr><td>1.283955</td><td>-0.1904917</td><td>-0.3640852</td><td>-0.4033260</td><td>1</td></tr>\n",
       "\t<tr><td>1.283955</td><td>-0.1904917</td><td>-1.4417775</td><td>-1.0521548</td><td>0</td></tr>\n",
       "</tbody>\n",
       "</table>\n"
      ],
      "text/latex": [
       "A data.frame: 6 × 5\n",
       "\\begin{tabular}{r|lllll}\n",
       " pH & NisinConcentration & Temperature & BrixConcentration & Growth\\\\\n",
       " <dbl> & <dbl> & <dbl> & <dbl> & <fct>\\\\\n",
       "\\hline\n",
       "\t 1.283955 &  1.2933386 &  1.2524532 & -1.0521548 & 0\\\\\n",
       "\t 1.283955 &  1.2933386 &  0.4980686 &  1.5431604 & 0\\\\\n",
       "\t 1.283955 &  0.5514235 &  0.4980686 & -0.4033260 & 1\\\\\n",
       "\t 1.283955 &  0.5514235 & -0.3640852 &  0.2455028 & 1\\\\\n",
       "\t 1.283955 & -0.1904917 & -0.3640852 & -0.4033260 & 1\\\\\n",
       "\t 1.283955 & -0.1904917 & -1.4417775 & -1.0521548 & 0\\\\\n",
       "\\end{tabular}\n"
      ],
      "text/markdown": [
       "\n",
       "A data.frame: 6 × 5\n",
       "\n",
       "| pH &lt;dbl&gt; | NisinConcentration &lt;dbl&gt; | Temperature &lt;dbl&gt; | BrixConcentration &lt;dbl&gt; | Growth &lt;fct&gt; |\n",
       "|---|---|---|---|---|\n",
       "| 1.283955 |  1.2933386 |  1.2524532 | -1.0521548 | 0 |\n",
       "| 1.283955 |  1.2933386 |  0.4980686 |  1.5431604 | 0 |\n",
       "| 1.283955 |  0.5514235 |  0.4980686 | -0.4033260 | 1 |\n",
       "| 1.283955 |  0.5514235 | -0.3640852 |  0.2455028 | 1 |\n",
       "| 1.283955 | -0.1904917 | -0.3640852 | -0.4033260 | 1 |\n",
       "| 1.283955 | -0.1904917 | -1.4417775 | -1.0521548 | 0 |\n",
       "\n"
      ],
      "text/plain": [
       "  pH       NisinConcentration Temperature BrixConcentration Growth\n",
       "1 1.283955  1.2933386          1.2524532  -1.0521548        0     \n",
       "2 1.283955  1.2933386          0.4980686   1.5431604        0     \n",
       "3 1.283955  0.5514235          0.4980686  -0.4033260        1     \n",
       "4 1.283955  0.5514235         -0.3640852   0.2455028        1     \n",
       "5 1.283955 -0.1904917         -0.3640852  -0.4033260        1     \n",
       "6 1.283955 -0.1904917         -1.4417775  -1.0521548        0     "
      ]
     },
     "metadata": {},
     "output_type": "display_data"
    }
   ],
   "source": [
    "data$Growth = as.factor(data$Growth)\n",
    "\n",
    "data[, 1:4] = scale(data[, 1:4])\n",
    "head(data)"
   ]
  },
  {
   "cell_type": "code",
   "execution_count": 33,
   "metadata": {},
   "outputs": [
    {
     "name": "stderr",
     "output_type": "stream",
     "text": [
      "Loading required package: Matrix\n",
      "Loading required package: lme4\n",
      "Warning message:\n",
      "“package ‘lme4’ was built under R version 3.5.2”\n",
      "arm (Version 1.10-1, built: 2018-4-12)\n",
      "\n",
      "Working directory is /Users/rusucosmin/courses/ab/report\n",
      "\n",
      "\n",
      "Attaching package: ‘arm’\n",
      "\n",
      "The following object is masked from ‘package:corrplot’:\n",
      "\n",
      "    corrplot\n",
      "\n"
     ]
    },
    {
     "data": {
      "image/png": "[encoded data removed]",
      "text/plain": [
       "Plot with title “Missingness Map”"
      ]
     },
     "metadata": {},
     "output_type": "display_data"
    }
   ],
   "source": [
    "library(Amelia)\n",
    "library(mlbench)\n",
    "library(arm)\n",
    "missmap(data, col=c(\"blue\", \"red\"), legend=FALSE)"
   ]
  },
  {
   "cell_type": "code",
   "execution_count": 10,
   "metadata": {},
   "outputs": [
    {
     "name": "stderr",
     "output_type": "stream",
     "text": [
      "corrplot 0.84 loaded\n"
     ]
    },
    {
     "data": {
      "text/html": [
       "<strong>pdf:</strong> 2"
      ],
      "text/latex": [
       "\\textbf{pdf:} 2"
      ],
      "text/markdown": [
       "**pdf:** 2"
      ],
      "text/plain": [
       "pdf \n",
       "  2 "
      ]
     },
     "metadata": {},
     "output_type": "display_data"
    }
   ],
   "source": [
    "library(corrplot)\n",
    "svg(filename=\"corr.svg\", \n",
    "    width=6,\n",
    "    height=6,\n",
    "    pointsize=14)\n",
    "correlations <- cor(data[,1:4])\n",
    "#corrplot.mixed(correlations, lower.col = \"black\")\n",
    "corrplot(correlations, method=\"circle\")\n",
    "dev.off()"
   ]
  },
  {
   "cell_type": "code",
   "execution_count": 15,
   "metadata": {},
   "outputs": [
    {
     "data": {
      "text/html": [
       "<strong>pdf:</strong> 2"
      ],
      "text/latex": [
       "\\textbf{pdf:} 2"
      ],
      "text/markdown": [
       "**pdf:** 2"
      ],
      "text/plain": [
       "pdf \n",
       "  2 "
      ]
     },
     "metadata": {},
     "output_type": "display_data"
    }
   ],
   "source": [
    "svg(filename=\"scatter.svg\", \n",
    "    width=6,\n",
    "    height=6,\n",
    "    pointsize=13)\n",
    "pairs(data, col=data$Growth, cex.lab=1.5, cex.axis=1.5, cex.main=1.5, cex.sub=1.5)\n",
    "dev.off()"
   ]
  },
  {
   "cell_type": "code",
   "execution_count": 16,
   "metadata": {},
   "outputs": [
    {
     "data": {
      "text/html": [
       "<strong>pdf:</strong> 2"
      ],
      "text/latex": [
       "\\textbf{pdf:} 2"
      ],
      "text/markdown": [
       "**pdf:** 2"
      ],
      "text/plain": [
       "pdf \n",
       "  2 "
      ]
     },
     "metadata": {},
     "output_type": "display_data"
    }
   ],
   "source": [
    "#jpeg(\"density.jpg\", width = 750, height = 750)\n",
    "svg(filename=\"density.svg\", \n",
    "    width=6,\n",
    "    height=6,\n",
    "    pointsize=13)\n",
    "library(caret)\n",
    "x <- data[,1:4]\n",
    "y <- data[,5]\n",
    "scales <- list(x=list(relation=\"free\"), y=list(relation=\"free\"))\n",
    "featurePlot(x=x, y=y, plot=\"density\", scales=scales)\n",
    "dev.off()"
   ]
  },
  {
   "cell_type": "code",
   "execution_count": 17,
   "metadata": {},
   "outputs": [
    {
     "data": {
      "image/png": "[encoded data removed]",
      "text/plain": [
       "Plot with title “”"
      ]
     },
     "metadata": {},
     "output_type": "display_data"
    }
   ],
   "source": [
    "par(mfrow=c(2,2))\n",
    "cdplot(Growth ~ pH, data = data) \n",
    "cdplot(Growth ~ NisinConcentration, data = data) \n",
    "cdplot(Growth ~ Temperature, data = data) \n",
    "cdplot(Growth ~ BrixConcentration, data = data) "
   ]
  },
  {
   "cell_type": "code",
   "execution_count": 34,
   "metadata": {},
   "outputs": [
    {
     "name": "stderr",
     "output_type": "stream",
     "text": [
      "Warning message:\n",
      "“glm.fit: fitted probabilities numerically 0 or 1 occurred”Warning message:\n",
      "“glm.fit: algorithm did not converge”Warning message:\n",
      "“glm.fit: fitted probabilities numerically 0 or 1 occurred”Warning message:\n",
      "“glm.fit: fitted probabilities numerically 0 or 1 occurred”Warning message:\n",
      "“glm.fit: fitted probabilities numerically 0 or 1 occurred”"
     ]
    },
    {
     "name": "stdout",
     "output_type": "stream",
     "text": [
      "[1] 0.8108108\n",
      "[1] 0.6875\n",
      "[1] 0.8461538\n",
      "[1] 0.7586207\n"
     ]
    },
    {
     "data": {
      "text/html": [
       "0.863782051282051"
      ],
      "text/latex": [
       "0.863782051282051"
      ],
      "text/markdown": [
       "0.863782051282051"
      ],
      "text/plain": [
       "[1] 0.8637821"
      ]
     },
     "metadata": {},
     "output_type": "display_data"
    },
    {
     "data": {
      "text/plain": [
       "\n",
       "Call:  glm(formula = Growth ~ pH + NisinConcentration + Temperature + \n",
       "    BrixConcentration, family = binomial(), data = data)\n",
       "\n",
       "Coefficients:\n",
       "       (Intercept)                  pH  NisinConcentration         Temperature  \n",
       "           -1.3159              1.4887             -1.7866              1.0246  \n",
       " BrixConcentration  \n",
       "           -0.9609  \n",
       "\n",
       "Degrees of Freedom: 73 Total (i.e. Null);  69 Residual\n",
       "Null Deviance:\t    95.95 \n",
       "Residual Deviance: 52.33 \tAIC: 62.33"
      ]
     },
     "metadata": {},
     "output_type": "display_data"
    },
    {
     "data": {
      "text/html": [
       "<dl class=dl-horizontal>\n",
       "\t<dt>(Intercept)</dt>\n",
       "\t\t<dd>-1.31591286433567</dd>\n",
       "\t<dt>pH</dt>\n",
       "\t\t<dd>1.48871021246794</dd>\n",
       "\t<dt>NisinConcentration</dt>\n",
       "\t\t<dd>-1.78662636944104</dd>\n",
       "\t<dt>Temperature</dt>\n",
       "\t\t<dd>1.02461894073402</dd>\n",
       "\t<dt>BrixConcentration</dt>\n",
       "\t\t<dd>-0.960907875408119</dd>\n",
       "</dl>\n"
      ],
      "text/latex": [
       "\\begin{description*}\n",
       "\\item[(Intercept)] -1.31591286433567\n",
       "\\item[pH] 1.48871021246794\n",
       "\\item[NisinConcentration] -1.78662636944104\n",
       "\\item[Temperature] 1.02461894073402\n",
       "\\item[BrixConcentration] -0.960907875408119\n",
       "\\end{description*}\n"
      ],
      "text/markdown": [
       "(Intercept)\n",
       ":   -1.31591286433567pH\n",
       ":   1.48871021246794NisinConcentration\n",
       ":   -1.78662636944104Temperature\n",
       ":   1.02461894073402BrixConcentration\n",
       ":   -0.960907875408119\n",
       "\n"
      ],
      "text/plain": [
       "       (Intercept)                 pH NisinConcentration        Temperature \n",
       "        -1.3159129          1.4887102         -1.7866264          1.0246189 \n",
       " BrixConcentration \n",
       "        -0.9609079 "
      ]
     },
     "metadata": {},
     "output_type": "display_data"
    }
   ],
   "source": [
    "subsample_negative = function(data) {\n",
    "    neg = subset(data, Growth == 0)\n",
    "    pos = subset(data, Growth == 1)\n",
    "    neg_n = nrow(neg)\n",
    "    pos_n = nrow(pos)\n",
    "    if (neg_n > pos_n) {\n",
    "        neg_sample = neg[sample(nrow(neg), pos_n),]\n",
    "        return(rbind(neg_sample, pos))\n",
    "    } else {\n",
    "        pos_sample = neg[sample(nrow(pos), neg_n),]\n",
    "        return(rbind(neg, pos_sample))\n",
    "    }\n",
    "}\n",
    "\n",
    "leave_one_out_sample = function(formula, model_name) {\n",
    "    x <- c()\n",
    "    y <- c()\n",
    "    for (row in 1:nrow(data)) {\n",
    "        test <- data[row, 1:5]\n",
    "        if (row > 1) {\n",
    "            if (row == nrow(data)) {\n",
    "                train <- data[1:(row-1), 1:5]\n",
    "            } else {\n",
    "                train <- rbind(data[1:(row-1), 1:5], data[(row+1):nrow(data), 1:5])\n",
    "            }\n",
    "        } else {\n",
    "            train <- data[(row + 1):nrow(data), 1:5]\n",
    "        }\n",
    "        stopifnot(nrow(train) == 73)\n",
    "        train <- subsample_negative(train)\n",
    "        stopifnot(nrow(train) == 50 || nrow(train) == 52)\n",
    "        model.now <- glm(formula, data = train, family = binomial())\n",
    "        \n",
    "        fitted.results <- predict(model.now, newdata = test, type='response')\n",
    "        y <- append(y, fitted.results)\n",
    "        fitted.results <- ifelse(fitted.results > 0.5, 1, 0)\n",
    "\n",
    "        #misClasificError <- mean(fitted.results != test$Growth)\n",
    "        x <- append(x, fitted.results)\n",
    "    }\n",
    "    stopifnot(length(x) == 74)\n",
    "    print(mean(x == data$Growth))\n",
    "\n",
    "    precision <- posPredValue(as.factor(x), data$Growth, positive=\"1\")\n",
    "    print(precision)\n",
    "\n",
    "    recall <- sensitivity(as.factor(x), data$Growth, positive=\"1\")\n",
    "    print(recall)\n",
    "\n",
    "    F1 <- (2 * precision * recall) / (precision + recall)\n",
    "    print(F1)\n",
    "\n",
    "    pr <- prediction(y, data$Growth)\n",
    "    prf <- performance(pr, measure = \"tpr\", x.measure = \"fpr\")\n",
    "    \n",
    "    svg(filename=paste(\"roc_\", model_name, \".svg\", sep=''), \n",
    "        width=6,\n",
    "        height=6,\n",
    "        pointsize=12)\n",
    "    plot(prf)\n",
    "    dev.off()\n",
    "\n",
    "    auc <- performance(pr, measure = \"auc\")\n",
    "    auc <- auc@y.values[[1]]\n",
    "    auc\n",
    "}\n",
    "\n",
    "leave_one_out_sample(Growth ~ pH + NisinConcentration + Temperature + BrixConcentration, \"simple_model\")\n",
    "\n",
    "\n",
    "model.glm.1 <- glm(Growth ~ pH + NisinConcentration + Temperature + BrixConcentration,\n",
    "                   data = data, family = binomial())\n",
    "model.glm.1\n",
    "coef(model.glm.1)"
   ]
  },
  {
   "cell_type": "code",
   "execution_count": 35,
   "metadata": {},
   "outputs": [
    {
     "name": "stderr",
     "output_type": "stream",
     "text": [
      "Warning message:\n",
      "“glm.fit: algorithm did not converge”Warning message:\n",
      "“glm.fit: fitted probabilities numerically 0 or 1 occurred”Warning message:\n",
      "“glm.fit: algorithm did not converge”Warning message:\n",
      "“glm.fit: fitted probabilities numerically 0 or 1 occurred”Warning message:\n",
      "“glm.fit: algorithm did not converge”Warning message:\n",
      "“glm.fit: fitted probabilities numerically 0 or 1 occurred”Warning message:\n",
      "“glm.fit: algorithm did not converge”Warning message:\n",
      "“glm.fit: fitted probabilities numerically 0 or 1 occurred”Warning message:\n",
      "“glm.fit: algorithm did not converge”Warning message:\n",
      "“glm.fit: fitted probabilities numerically 0 or 1 occurred”Warning message:\n",
      "“glm.fit: algorithm did not converge”Warning message:\n",
      "“glm.fit: fitted probabilities numerically 0 or 1 occurred”Warning message:\n",
      "“glm.fit: algorithm did not converge”Warning message:\n",
      "“glm.fit: fitted probabilities numerically 0 or 1 occurred”Warning message:\n",
      "“glm.fit: algorithm did not converge”Warning message:\n",
      "“glm.fit: fitted probabilities numerically 0 or 1 occurred”Warning message:\n",
      "“glm.fit: algorithm did not converge”Warning message:\n",
      "“glm.fit: fitted probabilities numerically 0 or 1 occurred”Warning message:\n",
      "“glm.fit: algorithm did not converge”Warning message:\n",
      "“glm.fit: fitted probabilities numerically 0 or 1 occurred”Warning message:\n",
      "“glm.fit: algorithm did not converge”Warning message:\n",
      "“glm.fit: fitted probabilities numerically 0 or 1 occurred”Warning message:\n",
      "“glm.fit: algorithm did not converge”Warning message:\n",
      "“glm.fit: fitted probabilities numerically 0 or 1 occurred”Warning message:\n",
      "“glm.fit: algorithm did not converge”Warning message:\n",
      "“glm.fit: fitted probabilities numerically 0 or 1 occurred”Warning message:\n",
      "“glm.fit: algorithm did not converge”Warning message:\n",
      "“glm.fit: fitted probabilities numerically 0 or 1 occurred”Warning message:\n",
      "“glm.fit: algorithm did not converge”Warning message:\n",
      "“glm.fit: fitted probabilities numerically 0 or 1 occurred”Warning message:\n",
      "“glm.fit: algorithm did not converge”Warning message:\n",
      "“glm.fit: fitted probabilities numerically 0 or 1 occurred”Warning message:\n",
      "“glm.fit: algorithm did not converge”Warning message:\n",
      "“glm.fit: fitted probabilities numerically 0 or 1 occurred”Warning message:\n",
      "“glm.fit: algorithm did not converge”Warning message:\n",
      "“glm.fit: fitted probabilities numerically 0 or 1 occurred”Warning message:\n",
      "“glm.fit: algorithm did not converge”Warning message:\n",
      "“glm.fit: fitted probabilities numerically 0 or 1 occurred”Warning message:\n",
      "“glm.fit: algorithm did not converge”Warning message:\n",
      "“glm.fit: fitted probabilities numerically 0 or 1 occurred”Warning message:\n",
      "“glm.fit: algorithm did not converge”Warning message:\n",
      "“glm.fit: fitted probabilities numerically 0 or 1 occurred”Warning message:\n",
      "“glm.fit: algorithm did not converge”Warning message:\n",
      "“glm.fit: fitted probabilities numerically 0 or 1 occurred”Warning message:\n",
      "“glm.fit: algorithm did not converge”Warning message:\n",
      "“glm.fit: fitted probabilities numerically 0 or 1 occurred”Warning message:\n",
      "“glm.fit: algorithm did not converge”Warning message:\n",
      "“glm.fit: fitted probabilities numerically 0 or 1 occurred”Warning message:\n",
      "“glm.fit: algorithm did not converge”Warning message:\n",
      "“glm.fit: fitted probabilities numerically 0 or 1 occurred”Warning message:\n",
      "“glm.fit: algorithm did not converge”Warning message:\n",
      "“glm.fit: fitted probabilities numerically 0 or 1 occurred”Warning message:\n",
      "“glm.fit: algorithm did not converge”Warning message:\n",
      "“glm.fit: fitted probabilities numerically 0 or 1 occurred”Warning message:\n",
      "“glm.fit: algorithm did not converge”Warning message:\n",
      "“glm.fit: fitted probabilities numerically 0 or 1 occurred”Warning message:\n",
      "“glm.fit: algorithm did not converge”Warning message:\n",
      "“glm.fit: fitted probabilities numerically 0 or 1 occurred”Warning message:\n",
      "“glm.fit: algorithm did not converge”Warning message:\n",
      "“glm.fit: fitted probabilities numerically 0 or 1 occurred”Warning message:\n",
      "“glm.fit: algorithm did not converge”Warning message:\n",
      "“glm.fit: fitted probabilities numerically 0 or 1 occurred”Warning message:\n",
      "“glm.fit: algorithm did not converge”Warning message:\n",
      "“glm.fit: fitted probabilities numerically 0 or 1 occurred”Warning message:\n",
      "“glm.fit: algorithm did not converge”Warning message:\n",
      "“glm.fit: fitted probabilities numerically 0 or 1 occurred”Warning message:\n",
      "“glm.fit: algorithm did not converge”Warning message:\n",
      "“glm.fit: fitted probabilities numerically 0 or 1 occurred”Warning message:\n",
      "“glm.fit: algorithm did not converge”Warning message:\n",
      "“glm.fit: fitted probabilities numerically 0 or 1 occurred”Warning message:\n",
      "“glm.fit: algorithm did not converge”Warning message:\n",
      "“glm.fit: fitted probabilities numerically 0 or 1 occurred”Warning message:\n",
      "“glm.fit: algorithm did not converge”Warning message:\n",
      "“glm.fit: fitted probabilities numerically 0 or 1 occurred”Warning message:\n",
      "“glm.fit: algorithm did not converge”Warning message:\n",
      "“glm.fit: fitted probabilities numerically 0 or 1 occurred”Warning message:\n",
      "“glm.fit: algorithm did not converge”Warning message:\n",
      "“glm.fit: fitted probabilities numerically 0 or 1 occurred”Warning message:\n",
      "“glm.fit: algorithm did not converge”Warning message:\n",
      "“glm.fit: fitted probabilities numerically 0 or 1 occurred”Warning message:\n",
      "“glm.fit: algorithm did not converge”Warning message:\n",
      "“glm.fit: fitted probabilities numerically 0 or 1 occurred”Warning message:\n",
      "“glm.fit: algorithm did not converge”Warning message:\n",
      "“glm.fit: fitted probabilities numerically 0 or 1 occurred”Warning message:\n",
      "“glm.fit: algorithm did not converge”Warning message:\n",
      "“glm.fit: fitted probabilities numerically 0 or 1 occurred”Warning message:\n",
      "“glm.fit: algorithm did not converge”Warning message:\n",
      "“glm.fit: fitted probabilities numerically 0 or 1 occurred”Warning message:\n",
      "“glm.fit: algorithm did not converge”Warning message:\n",
      "“glm.fit: fitted probabilities numerically 0 or 1 occurred”Warning message:\n",
      "“glm.fit: algorithm did not converge”Warning message:\n",
      "“glm.fit: fitted probabilities numerically 0 or 1 occurred”Warning message:\n",
      "“glm.fit: algorithm did not converge”Warning message:\n",
      "“glm.fit: fitted probabilities numerically 0 or 1 occurred”Warning message:\n",
      "“glm.fit: algorithm did not converge”Warning message:\n",
      "“glm.fit: fitted probabilities numerically 0 or 1 occurred”Warning message:\n",
      "“glm.fit: algorithm did not converge”Warning message:\n",
      "“glm.fit: fitted probabilities numerically 0 or 1 occurred”Warning message:\n",
      "“glm.fit: algorithm did not converge”Warning message:\n",
      "“glm.fit: fitted probabilities numerically 0 or 1 occurred”Warning message:\n",
      "“glm.fit: algorithm did not converge”Warning message:\n",
      "“glm.fit: fitted probabilities numerically 0 or 1 occurred”Warning message:\n",
      "“glm.fit: algorithm did not converge”Warning message:\n",
      "“glm.fit: fitted probabilities numerically 0 or 1 occurred”Warning message:\n",
      "“glm.fit: algorithm did not converge”Warning message:\n",
      "“glm.fit: fitted probabilities numerically 0 or 1 occurred”Warning message:\n",
      "“glm.fit: algorithm did not converge”Warning message:\n",
      "“glm.fit: fitted probabilities numerically 0 or 1 occurred”Warning message:\n",
      "“glm.fit: algorithm did not converge”Warning message:\n",
      "“glm.fit: fitted probabilities numerically 0 or 1 occurred”Warning message:\n",
      "“glm.fit: algorithm did not converge”Warning message:\n",
      "“glm.fit: fitted probabilities numerically 0 or 1 occurred”Warning message:\n",
      "“glm.fit: algorithm did not converge”Warning message:\n",
      "“glm.fit: fitted probabilities numerically 0 or 1 occurred”Warning message:\n",
      "“glm.fit: algorithm did not converge”Warning message:\n",
      "“glm.fit: fitted probabilities numerically 0 or 1 occurred”Warning message:\n",
      "“glm.fit: algorithm did not converge”Warning message:\n",
      "“glm.fit: fitted probabilities numerically 0 or 1 occurred”Warning message:\n",
      "“glm.fit: algorithm did not converge”Warning message:\n",
      "“glm.fit: fitted probabilities numerically 0 or 1 occurred”Warning message:\n",
      "“glm.fit: algorithm did not converge”Warning message:\n",
      "“glm.fit: fitted probabilities numerically 0 or 1 occurred”Warning message:\n",
      "“glm.fit: algorithm did not converge”Warning message:\n",
      "“glm.fit: fitted probabilities numerically 0 or 1 occurred”Warning message:\n",
      "“glm.fit: algorithm did not converge”Warning message:\n",
      "“glm.fit: fitted probabilities numerically 0 or 1 occurred”Warning message:\n"
     ]
    },
    {
     "name": "stderr",
     "output_type": "stream",
     "text": [
      "“glm.fit: algorithm did not converge”Warning message:\n",
      "“glm.fit: fitted probabilities numerically 0 or 1 occurred”Warning message:\n",
      "“glm.fit: algorithm did not converge”Warning message:\n",
      "“glm.fit: fitted probabilities numerically 0 or 1 occurred”Warning message:\n",
      "“glm.fit: algorithm did not converge”Warning message:\n",
      "“glm.fit: fitted probabilities numerically 0 or 1 occurred”Warning message:\n",
      "“glm.fit: algorithm did not converge”Warning message:\n",
      "“glm.fit: fitted probabilities numerically 0 or 1 occurred”Warning message:\n",
      "“glm.fit: algorithm did not converge”Warning message:\n",
      "“glm.fit: fitted probabilities numerically 0 or 1 occurred”Warning message:\n",
      "“glm.fit: algorithm did not converge”Warning message:\n",
      "“glm.fit: fitted probabilities numerically 0 or 1 occurred”Warning message:\n",
      "“glm.fit: algorithm did not converge”Warning message:\n",
      "“glm.fit: fitted probabilities numerically 0 or 1 occurred”Warning message:\n",
      "“glm.fit: algorithm did not converge”Warning message:\n",
      "“glm.fit: fitted probabilities numerically 0 or 1 occurred”Warning message:\n",
      "“glm.fit: algorithm did not converge”Warning message:\n",
      "“glm.fit: fitted probabilities numerically 0 or 1 occurred”Warning message:\n",
      "“glm.fit: algorithm did not converge”Warning message:\n",
      "“glm.fit: fitted probabilities numerically 0 or 1 occurred”Warning message:\n",
      "“glm.fit: algorithm did not converge”Warning message:\n",
      "“glm.fit: fitted probabilities numerically 0 or 1 occurred”"
     ]
    },
    {
     "name": "stdout",
     "output_type": "stream",
     "text": [
      "[1] 0.9459459\n",
      "[1] 0.8666667\n",
      "[1] 1\n",
      "[1] 0.9285714\n"
     ]
    },
    {
     "data": {
      "text/html": [
       "0.948717948717949"
      ],
      "text/latex": [
       "0.948717948717949"
      ],
      "text/markdown": [
       "0.948717948717949"
      ],
      "text/plain": [
       "[1] 0.9487179"
      ]
     },
     "metadata": {},
     "output_type": "display_data"
    }
   ],
   "source": [
    "leave_one_out_sample(Growth ~ NisinConcentration + pH + Temperature + \n",
    "    BrixConcentration + pH:BrixConcentration + NisinConcentration:BrixConcentration + \n",
    "    Temperature:BrixConcentration + NisinConcentration:Temperature, model_name=\"complex_model\")"
   ]
  },
  {
   "cell_type": "code",
   "execution_count": 25,
   "metadata": {},
   "outputs": [
    {
     "data": {
      "text/plain": [
       "\n",
       "Call:\n",
       "glm(formula = Growth ~ pH + NisinConcentration + Temperature + \n",
       "    BrixConcentration, family = binomial(), data = data)\n",
       "\n",
       "Deviance Residuals: \n",
       "    Min       1Q   Median       3Q      Max  \n",
       "-2.3614  -0.3990  -0.1585   0.6306   1.6200  \n",
       "\n",
       "Coefficients:\n",
       "                   Estimate Std. Error z value Pr(>|z|)    \n",
       "(Intercept)         -1.3159     0.4449  -2.958 0.003101 ** \n",
       "pH                   1.4887     0.4272   3.485 0.000493 ***\n",
       "NisinConcentration  -1.7866     0.5135  -3.479 0.000503 ***\n",
       "Temperature          1.0246     0.4425   2.316 0.020585 *  \n",
       "BrixConcentration   -0.9609     0.4413  -2.177 0.029458 *  \n",
       "---\n",
       "Signif. codes:  0 ‘***’ 0.001 ‘**’ 0.01 ‘*’ 0.05 ‘.’ 0.1 ‘ ’ 1\n",
       "\n",
       "(Dispersion parameter for binomial family taken to be 1)\n",
       "\n",
       "    Null deviance: 95.945  on 73  degrees of freedom\n",
       "Residual deviance: 52.331  on 69  degrees of freedom\n",
       "AIC: 62.331\n",
       "\n",
       "Number of Fisher Scoring iterations: 6\n"
      ]
     },
     "metadata": {},
     "output_type": "display_data"
    }
   ],
   "source": [
    "summary(model.glm.1)"
   ]
  },
  {
   "cell_type": "code",
   "execution_count": 26,
   "metadata": {},
   "outputs": [
    {
     "data": {
      "text/html": [
       "<strong>pdf:</strong> 2"
      ],
      "text/latex": [
       "\\textbf{pdf:} 2"
      ],
      "text/markdown": [
       "**pdf:** 2"
      ],
      "text/plain": [
       "pdf \n",
       "  2 "
      ]
     },
     "metadata": {},
     "output_type": "display_data"
    }
   ],
   "source": [
    "svg(filename=\"simple_model.svg\", \n",
    "    width=6,\n",
    "    height=6,\n",
    "    pointsize=12)\n",
    "\n",
    "layout(matrix(1:4,ncol=2)) \n",
    "plot(model.glm.1)\n",
    "\n",
    "dev.off()"
   ]
  },
  {
   "cell_type": "code",
   "execution_count": 27,
   "metadata": {},
   "outputs": [
    {
     "data": {
      "text/html": [
       "0.837837837837838"
      ],
      "text/latex": [
       "0.837837837837838"
      ],
      "text/markdown": [
       "0.837837837837838"
      ],
      "text/plain": [
       "[1] 0.8378378"
      ]
     },
     "metadata": {},
     "output_type": "display_data"
    }
   ],
   "source": [
    "# Make predictions\n",
    "probabilities <- predict(model.glm.1, data, type = \"response\")\n",
    "predicted.classes <- ifelse(probabilities > 0.5, 1, 0)\n",
    "# Model accuracy\n",
    "mean(predicted.classes==data$Growth)"
   ]
  },
  {
   "cell_type": "code",
   "execution_count": 39,
   "metadata": {},
   "outputs": [
    {
     "data": {
      "text/html": [
       "0.648648648648649"
      ],
      "text/latex": [
       "0.648648648648649"
      ],
      "text/markdown": [
       "0.648648648648649"
      ],
      "text/plain": [
       "[1] 0.6486486"
      ]
     },
     "metadata": {},
     "output_type": "display_data"
    },
    {
     "name": "stdout",
     "output_type": "stream",
     "text": [
      "Start:  AIC=97.95\n",
      "Growth ~ 1\n",
      "\n",
      "                     Df Deviance    AIC\n",
      "+ NisinConcentration  1   79.412 83.412\n",
      "+ pH                  1   87.248 91.248\n",
      "+ BrixConcentration   1   90.572 94.572\n",
      "+ Temperature         1   93.188 97.188\n",
      "<none>                    95.945 97.945\n",
      "\n",
      "Step:  AIC=83.46\n",
      "Growth ~ NisinConcentration\n",
      "\n",
      "                     Df Deviance    AIC\n",
      "+ pH                  1   64.049 70.101\n",
      "+ Temperature         1   73.984 80.036\n",
      "+ BrixConcentration   1   76.128 82.180\n",
      "<none>                    79.464 83.464\n",
      "- NisinConcentration  1   95.945 97.945\n",
      "\n",
      "Step:  AIC=70.3\n",
      "Growth ~ NisinConcentration + pH\n",
      "\n",
      "                        Df Deviance    AIC\n",
      "+ Temperature            1   58.153 66.406\n",
      "+ BrixConcentration      1   59.219 67.472\n",
      "<none>                       64.302 70.302\n",
      "+ pH:NisinConcentration  1   63.911 72.164\n",
      "- pH                     1   79.412 83.412\n",
      "- NisinConcentration     1   87.248 91.248\n",
      "\n",
      "Step:  AIC=66.62\n",
      "Growth ~ NisinConcentration + pH + Temperature\n",
      "\n",
      "                                 Df Deviance    AIC\n",
      "+ BrixConcentration               1   52.331 62.797\n",
      "+ pH:Temperature                  1   54.488 64.954\n",
      "<none>                                58.620 66.620\n",
      "+ pH:NisinConcentration           1   57.857 68.324\n",
      "+ NisinConcentration:Temperature  1   58.150 68.617\n",
      "- Temperature                     1   64.049 70.049\n",
      "- pH                              1   73.984 79.984\n",
      "- NisinConcentration              1   84.680 90.680\n",
      "\n",
      "Step:  AIC=63\n",
      "Growth ~ NisinConcentration + pH + Temperature + BrixConcentration\n",
      "\n",
      "                                       Df Deviance    AIC\n",
      "+ pH:BrixConcentration                  1   48.371 61.038\n",
      "+ NisinConcentration:BrixConcentration  1   48.741 61.408\n",
      "+ Temperature:BrixConcentration         1   48.933 61.600\n",
      "+ pH:Temperature                        1   49.436 62.104\n",
      "<none>                                      52.998 62.998\n",
      "+ pH:NisinConcentration                 1   52.095 64.762\n",
      "+ NisinConcentration:Temperature        1   52.306 64.973\n",
      "- BrixConcentration                     1   58.153 66.153\n",
      "- Temperature                           1   59.219 67.219\n",
      "- pH                                    1   70.148 78.148\n",
      "- NisinConcentration                    1   73.637 81.637\n",
      "\n",
      "Step:  AIC=61.16\n",
      "Growth ~ NisinConcentration + pH + Temperature + BrixConcentration + \n",
      "    pH:BrixConcentration\n",
      "\n",
      "                                       Df Deviance    AIC\n",
      "+ NisinConcentration:BrixConcentration  1   38.143 52.931\n",
      "+ pH:Temperature                        1   45.794 60.582\n",
      "<none>                                      49.159 61.159\n",
      "+ Temperature:BrixConcentration         1   47.018 61.806\n",
      "- pH:BrixConcentration                  1   52.331 62.331\n",
      "+ pH:NisinConcentration                 1   48.146 62.934\n",
      "+ NisinConcentration:Temperature        1   48.333 63.120\n",
      "- Temperature                           1   56.622 66.622\n",
      "- NisinConcentration                    1   71.437 81.437\n",
      "\n",
      "Step:  AIC=55.12\n",
      "Growth ~ NisinConcentration + pH + Temperature + BrixConcentration + \n",
      "    pH:BrixConcentration + NisinConcentration:BrixConcentration\n",
      "\n"
     ]
    },
    {
     "name": "stderr",
     "output_type": "stream",
     "text": [
      "Warning message:\n",
      "“glm.fit: fitted probabilities numerically 0 or 1 occurred”"
     ]
    },
    {
     "name": "stdout",
     "output_type": "stream",
     "text": [
      "                                       Df Deviance    AIC\n",
      "+ Temperature:BrixConcentration         1   21.953 40.931\n",
      "<none>                                      41.121 55.121\n",
      "+ pH:Temperature                        1   36.183 55.161\n",
      "+ NisinConcentration:Temperature        1   37.696 56.674\n",
      "+ pH:NisinConcentration                 1   37.852 56.829\n",
      "- NisinConcentration:BrixConcentration  1   48.371 60.371\n",
      "- pH:BrixConcentration                  1   48.741 60.741\n",
      "- Temperature                           1   52.501 64.501\n",
      "\n",
      "Step:  AIC=48.76\n",
      "Growth ~ NisinConcentration + pH + Temperature + BrixConcentration + \n",
      "    pH:BrixConcentration + NisinConcentration:BrixConcentration + \n",
      "    Temperature:BrixConcentration\n",
      "\n"
     ]
    },
    {
     "name": "stderr",
     "output_type": "stream",
     "text": [
      "Warning message:\n",
      "“glm.fit: fitted probabilities numerically 0 or 1 occurred”Warning message:\n",
      "“glm.fit: fitted probabilities numerically 0 or 1 occurred”Warning message:\n",
      "“glm.fit: fitted probabilities numerically 0 or 1 occurred”Warning message:\n",
      "“glm.fit: fitted probabilities numerically 0 or 1 occurred”"
     ]
    },
    {
     "name": "stdout",
     "output_type": "stream",
     "text": [
      "                                       Df Deviance    AIC\n",
      "+ pH:Temperature                        1    0.000 28.805\n",
      "+ NisinConcentration:Temperature        1    0.000 28.805\n",
      "<none>                                      32.758 48.758\n",
      "+ pH:NisinConcentration                 1   20.978 49.783\n",
      "- Temperature:BrixConcentration         1   38.143 52.143\n",
      "- pH:BrixConcentration                  1   40.323 54.323\n",
      "- NisinConcentration:BrixConcentration  1   47.018 61.018\n",
      "\n",
      "Step:  AIC=48.68\n",
      "Growth ~ NisinConcentration + pH + Temperature + BrixConcentration + \n",
      "    pH:BrixConcentration + NisinConcentration:BrixConcentration + \n",
      "    Temperature:BrixConcentration + pH:Temperature\n",
      "\n"
     ]
    },
    {
     "name": "stderr",
     "output_type": "stream",
     "text": [
      "Warning message:\n",
      "“glm.fit: fitted probabilities numerically 0 or 1 occurred”Warning message:\n",
      "“glm.fit: fitted probabilities numerically 0 or 1 occurred”Warning message:\n",
      "“glm.fit: fitted probabilities numerically 0 or 1 occurred”Warning message:\n",
      "“glm.fit: fitted probabilities numerically 0 or 1 occurred”Warning message:\n",
      "“glm.fit: fitted probabilities numerically 0 or 1 occurred”"
     ]
    },
    {
     "name": "stdout",
     "output_type": "stream",
     "text": [
      "                                       Df Deviance    AIC\n",
      "- pH:Temperature                        1   21.953 37.953\n",
      "<none>                                      30.679 48.679\n",
      "+ pH:NisinConcentration                 1    0.000 50.679\n",
      "+ pH:Temperature:BrixConcentration      1    0.000 50.679\n",
      "+ NisinConcentration:Temperature        1    0.000 50.679\n",
      "- Temperature:BrixConcentration         1   36.183 52.183\n",
      "- pH:BrixConcentration                  1   36.188 52.188\n",
      "- NisinConcentration:BrixConcentration  1   43.878 59.878\n",
      "\n",
      "Step:  AIC=48.76\n",
      "Growth ~ NisinConcentration + pH + Temperature + BrixConcentration + \n",
      "    pH:BrixConcentration + NisinConcentration:BrixConcentration + \n",
      "    Temperature:BrixConcentration\n",
      "\n"
     ]
    },
    {
     "data": {
      "text/plain": [
       "\n",
       "Call:  bayesglm(formula = Growth ~ NisinConcentration + pH + Temperature + \n",
       "    BrixConcentration + pH:BrixConcentration + NisinConcentration:BrixConcentration + \n",
       "    Temperature:BrixConcentration, family = binomial(), data = data)\n",
       "\n",
       "Coefficients:\n",
       "                         (Intercept)                    NisinConcentration  \n",
       "                             -1.5664                               -2.7795  \n",
       "                                  pH                           Temperature  \n",
       "                              2.0563                                1.6518  \n",
       "                   BrixConcentration                  pH:BrixConcentration  \n",
       "                             -0.2146                               -1.0946  \n",
       "NisinConcentration:BrixConcentration         Temperature:BrixConcentration  \n",
       "                              1.5845                               -0.9460  \n",
       "\n",
       "Degrees of Freedom: 73 Total (i.e. Null);  66 Residual\n",
       "Null Deviance:\t    95.95 \n",
       "Residual Deviance: 32.76 \tAIC: 48.76"
      ]
     },
     "metadata": {},
     "output_type": "display_data"
    }
   ],
   "source": [
    "model.glm.2 <- bayesglm(Growth ~ 1, data = data, family = binomial())\n",
    "# Make predictions\n",
    "probabilities <- predict(model.glm.2, data, type = \"response\")\n",
    "predicted.classes <- ifelse(probabilities > 0.5, 1, 0)\n",
    "# Model accuracy\n",
    "mean(predicted.classes==data$Growth)\n",
    "stepAIC(model.glm.2, scope= ~ pH * NisinConcentration * Temperature * BrixConcentration)"
   ]
  },
  {
   "cell_type": "code",
   "execution_count": 45,
   "metadata": {},
   "outputs": [
    {
     "data": {
      "text/plain": [
       "\n",
       "Call:  bayesglm(formula = Growth ~ NisinConcentration + pH + Temperature + \n",
       "    BrixConcentration + pH:BrixConcentration + NisinConcentration:BrixConcentration + \n",
       "    Temperature:BrixConcentration + NisinConcentration:Temperature, \n",
       "    family = binomial(), data = data)\n",
       "\n",
       "Coefficients:\n",
       "                         (Intercept)                    NisinConcentration  \n",
       "                             -1.4800                               -2.7674  \n",
       "                                  pH                           Temperature  \n",
       "                              2.1492                                1.6828  \n",
       "                   BrixConcentration                  pH:BrixConcentration  \n",
       "                             -0.2487                               -1.2074  \n",
       "NisinConcentration:BrixConcentration         Temperature:BrixConcentration  \n",
       "                              1.7375                               -1.0087  \n",
       "      NisinConcentration:Temperature  \n",
       "                             -0.4024  \n",
       "\n",
       "Degrees of Freedom: 73 Total (i.e. Null);  65 Residual\n",
       "Null Deviance:\t    95.95 \n",
       "Residual Deviance: 31.11 \tAIC: 49.11"
      ]
     },
     "metadata": {},
     "output_type": "display_data"
    }
   ],
   "source": [
    "model.best <- bayesglm(formula = Growth ~ NisinConcentration + pH + Temperature + \n",
    "    BrixConcentration + pH:BrixConcentration + NisinConcentration:BrixConcentration + \n",
    "    Temperature:BrixConcentration + NisinConcentration:Temperature,\n",
    "    family = binomial(), data = data)\n",
    "\n",
    "model.best"
   ]
  },
  {
   "cell_type": "code",
   "execution_count": 46,
   "metadata": {},
   "outputs": [
    {
     "data": {
      "text/plain": [
       "\n",
       "Call:\n",
       "bayesglm(formula = Growth ~ NisinConcentration + pH + Temperature + \n",
       "    BrixConcentration + pH:BrixConcentration + NisinConcentration:BrixConcentration + \n",
       "    Temperature:BrixConcentration + NisinConcentration:Temperature, \n",
       "    family = binomial(), data = data)\n",
       "\n",
       "Deviance Residuals: \n",
       "     Min        1Q    Median        3Q       Max  \n",
       "-1.18323  -0.48032  -0.09181   0.27093   1.57315  \n",
       "\n",
       "Coefficients:\n",
       "                                     Estimate Std. Error z value Pr(>|z|)    \n",
       "(Intercept)                           -1.4800     0.4995  -2.963 0.003049 ** \n",
       "NisinConcentration                    -2.7674     0.7061  -3.919 8.89e-05 ***\n",
       "pH                                     2.1492     0.5575   3.855 0.000116 ***\n",
       "Temperature                            1.6828     0.5404   3.114 0.001844 ** \n",
       "BrixConcentration                     -0.2487     0.3812  -0.652 0.514138    \n",
       "pH:BrixConcentration                  -1.2074     0.4482  -2.694 0.007069 ** \n",
       "NisinConcentration:BrixConcentration   1.7375     0.5771   3.011 0.002605 ** \n",
       "Temperature:BrixConcentration         -1.0087     0.4286  -2.353 0.018612 *  \n",
       "NisinConcentration:Temperature        -0.4024     0.4371  -0.920 0.357321    \n",
       "---\n",
       "Signif. codes:  0 ‘***’ 0.001 ‘**’ 0.01 ‘*’ 0.05 ‘.’ 0.1 ‘ ’ 1\n",
       "\n",
       "(Dispersion parameter for binomial family taken to be 1)\n",
       "\n",
       "    Null deviance: 95.945  on 73  degrees of freedom\n",
       "Residual deviance: 31.109  on 65  degrees of freedom\n",
       "AIC: 49.109\n",
       "\n",
       "Number of Fisher Scoring iterations: 34\n"
      ]
     },
     "metadata": {},
     "output_type": "display_data"
    }
   ],
   "source": [
    "summary(model.best)"
   ]
  },
  {
   "cell_type": "code",
   "execution_count": 47,
   "metadata": {},
   "outputs": [
    {
     "data": {
      "text/html": [
       "<dl class=dl-horizontal>\n",
       "\t<dt>(Intercept)</dt>\n",
       "\t\t<dd>-1.48004407979454</dd>\n",
       "\t<dt>NisinConcentration</dt>\n",
       "\t\t<dd>-2.76737147047693</dd>\n",
       "\t<dt>pH</dt>\n",
       "\t\t<dd>2.14920409569535</dd>\n",
       "\t<dt>Temperature</dt>\n",
       "\t\t<dd>1.68282390196255</dd>\n",
       "\t<dt>BrixConcentration</dt>\n",
       "\t\t<dd>-0.248696528636567</dd>\n",
       "\t<dt>pH:BrixConcentration</dt>\n",
       "\t\t<dd>-1.20736424146457</dd>\n",
       "\t<dt>NisinConcentration:BrixConcentration</dt>\n",
       "\t\t<dd>1.7375288340888</dd>\n",
       "\t<dt>Temperature:BrixConcentration</dt>\n",
       "\t\t<dd>-1.00867971848691</dd>\n",
       "\t<dt>NisinConcentration:Temperature</dt>\n",
       "\t\t<dd>-0.402361869621334</dd>\n",
       "</dl>\n"
      ],
      "text/latex": [
       "\\begin{description*}\n",
       "\\item[(Intercept)] -1.48004407979454\n",
       "\\item[NisinConcentration] -2.76737147047693\n",
       "\\item[pH] 2.14920409569535\n",
       "\\item[Temperature] 1.68282390196255\n",
       "\\item[BrixConcentration] -0.248696528636567\n",
       "\\item[pH:BrixConcentration] -1.20736424146457\n",
       "\\item[NisinConcentration:BrixConcentration] 1.7375288340888\n",
       "\\item[Temperature:BrixConcentration] -1.00867971848691\n",
       "\\item[NisinConcentration:Temperature] -0.402361869621334\n",
       "\\end{description*}\n"
      ],
      "text/markdown": [
       "(Intercept)\n",
       ":   -1.48004407979454NisinConcentration\n",
       ":   -2.76737147047693pH\n",
       ":   2.14920409569535Temperature\n",
       ":   1.68282390196255BrixConcentration\n",
       ":   -0.248696528636567pH:BrixConcentration\n",
       ":   -1.20736424146457NisinConcentration:BrixConcentration\n",
       ":   1.7375288340888Temperature:BrixConcentration\n",
       ":   -1.00867971848691NisinConcentration:Temperature\n",
       ":   -0.402361869621334\n",
       "\n"
      ],
      "text/plain": [
       "                         (Intercept)                   NisinConcentration \n",
       "                          -1.4800441                           -2.7673715 \n",
       "                                  pH                          Temperature \n",
       "                           2.1492041                            1.6828239 \n",
       "                   BrixConcentration                 pH:BrixConcentration \n",
       "                          -0.2486965                           -1.2073642 \n",
       "NisinConcentration:BrixConcentration        Temperature:BrixConcentration \n",
       "                           1.7375288                           -1.0086797 \n",
       "      NisinConcentration:Temperature \n",
       "                          -0.4023619 "
      ]
     },
     "metadata": {},
     "output_type": "display_data"
    }
   ],
   "source": [
    "coef(model.best)"
   ]
  },
  {
   "cell_type": "code",
   "execution_count": 48,
   "metadata": {},
   "outputs": [
    {
     "ename": "ERROR",
     "evalue": "Error in lm.influence(model, do.coef = do.coef, ...): non-NA residual length does not match cases used in fitting\n",
     "output_type": "error",
     "traceback": [
      "Error in lm.influence(model, do.coef = do.coef, ...): non-NA residual length does not match cases used in fitting\nTraceback:\n",
      "1. plot(model.best)",
      "2. plot(model.best)",
      "3. plot.lm(model.best)",
      "4. influence(x, do.coef = FALSE)",
      "5. influence.glm(x, do.coef = FALSE)",
      "6. lm.influence(model, do.coef = do.coef, ...)",
      "7. stop(\"non-NA residual length does not match cases used in fitting\")"
     ]
    }
   ],
   "source": [
    "layout(matrix(1:4,ncol=2)) \n",
    "plot(model.best)"
   ]
  },
  {
   "cell_type": "code",
   "execution_count": 98,
   "metadata": {},
   "outputs": [
    {
     "data": {
      "text/html": [
       "1"
      ],
      "text/latex": [
       "1"
      ],
      "text/markdown": [
       "1"
      ],
      "text/plain": [
       "[1] 1"
      ]
     },
     "metadata": {},
     "output_type": "display_data"
    }
   ],
   "source": [
    "# Make predictions\n",
    "probabilities <- predict(model.best, data, type = \"response\")\n",
    "predicted.classes <- ifelse(probabilities > 0.5, 1, 0)\n",
    "# Model accuracy\n",
    "mean(predicted.classes==data$Growth)"
   ]
  },
  {
   "cell_type": "code",
   "execution_count": 99,
   "metadata": {},
   "outputs": [
    {
     "data": {
      "text/plain": [
       "\n",
       "Call:  glm(formula = Growth ~ ., family = binomial(), data = data)\n",
       "\n",
       "Coefficients:\n",
       "       (Intercept)                  pH  NisinConcentration         Temperature  \n",
       "           -1.3159              1.4887             -1.7866              1.0246  \n",
       " BrixConcentration  \n",
       "           -0.9609  \n",
       "\n",
       "Degrees of Freedom: 73 Total (i.e. Null);  69 Residual\n",
       "Null Deviance:\t    95.95 \n",
       "Residual Deviance: 52.33 \tAIC: 62.33"
      ]
     },
     "metadata": {},
     "output_type": "display_data"
    }
   ],
   "source": [
    "model.all <- glm(formula = Growth ~.,\n",
    "    family = binomial(), data = data)\n",
    "model.all"
   ]
  },
  {
   "cell_type": "code",
   "execution_count": 100,
   "metadata": {},
   "outputs": [
    {
     "data": {
      "text/html": [
       "<dl class=dl-horizontal>\n",
       "\t<dt>(Intercept)</dt>\n",
       "\t\t<dd>-1.31591286433567</dd>\n",
       "\t<dt>pH</dt>\n",
       "\t\t<dd>1.48871021246794</dd>\n",
       "\t<dt>NisinConcentration</dt>\n",
       "\t\t<dd>-1.78662636944104</dd>\n",
       "\t<dt>Temperature</dt>\n",
       "\t\t<dd>1.02461894073402</dd>\n",
       "\t<dt>BrixConcentration</dt>\n",
       "\t\t<dd>-0.960907875408119</dd>\n",
       "</dl>\n"
      ],
      "text/latex": [
       "\\begin{description*}\n",
       "\\item[(Intercept)] -1.31591286433567\n",
       "\\item[pH] 1.48871021246794\n",
       "\\item[NisinConcentration] -1.78662636944104\n",
       "\\item[Temperature] 1.02461894073402\n",
       "\\item[BrixConcentration] -0.960907875408119\n",
       "\\end{description*}\n"
      ],
      "text/markdown": [
       "(Intercept)\n",
       ":   -1.31591286433567pH\n",
       ":   1.48871021246794NisinConcentration\n",
       ":   -1.78662636944104Temperature\n",
       ":   1.02461894073402BrixConcentration\n",
       ":   -0.960907875408119\n",
       "\n"
      ],
      "text/plain": [
       "       (Intercept)                 pH NisinConcentration        Temperature \n",
       "        -1.3159129          1.4887102         -1.7866264          1.0246189 \n",
       " BrixConcentration \n",
       "        -0.9609079 "
      ]
     },
     "metadata": {},
     "output_type": "display_data"
    }
   ],
   "source": [
    "model.all$coef"
   ]
  },
  {
   "cell_type": "code",
   "execution_count": 101,
   "metadata": {},
   "outputs": [
    {
     "data": {
      "image/png": "[encoded data removed]",
      "text/plain": [
       "Plot with title “”"
      ]
     },
     "metadata": {},
     "output_type": "display_data"
    }
   ],
   "source": [
    "layout(matrix(1:4,ncol=2)) \n",
    "plot(model.all)"
   ]
  },
  {
   "cell_type": "code",
   "execution_count": 102,
   "metadata": {},
   "outputs": [
    {
     "data": {
      "text/html": [
       "0.837837837837838"
      ],
      "text/latex": [
       "0.837837837837838"
      ],
      "text/markdown": [
       "0.837837837837838"
      ],
      "text/plain": [
       "[1] 0.8378378"
      ]
     },
     "metadata": {},
     "output_type": "display_data"
    }
   ],
   "source": [
    "# Make predictions\n",
    "probabilities <- predict(model.all, data, type = \"response\")\n",
    "predicted.classes <- ifelse(probabilities > 0.5, 1, 0)\n",
    "# Model accuracy\n",
    "mean(predicted.classes==data$Growth)"
   ]
  },
  {
   "cell_type": "code",
   "execution_count": null,
   "metadata": {},
   "outputs": [],
   "source": []
  },
  {
   "cell_type": "code",
   "execution_count": null,
   "metadata": {},
   "outputs": [],
   "source": []
  },
  {
   "cell_type": "code",
   "execution_count": null,
   "metadata": {},
   "outputs": [],
   "source": []
  },
  {
   "cell_type": "code",
   "execution_count": null,
   "metadata": {},
   "outputs": [],
   "source": []
  },
  {
   "cell_type": "code",
   "execution_count": null,
   "metadata": {},
   "outputs": [],
   "source": []
  },
  {
   "cell_type": "code",
   "execution_count": null,
   "metadata": {},
   "outputs": [],
   "source": []
  },
  {
   "cell_type": "code",
   "execution_count": null,
   "metadata": {},
   "outputs": [],
   "source": []
  },
  {
   "cell_type": "code",
   "execution_count": null,
   "metadata": {},
   "outputs": [],
   "source": []
  },
  {
   "cell_type": "code",
   "execution_count": null,
   "metadata": {},
   "outputs": [],
   "source": []
  },
  {
   "cell_type": "code",
   "execution_count": null,
   "metadata": {},
   "outputs": [],
   "source": []
  },
  {
   "cell_type": "code",
   "execution_count": null,
   "metadata": {},
   "outputs": [],
   "source": []
  },
  {
   "cell_type": "code",
   "execution_count": null,
   "metadata": {},
   "outputs": [],
   "source": []
  },
  {
   "cell_type": "code",
   "execution_count": null,
   "metadata": {},
   "outputs": [],
   "source": []
  },
  {
   "cell_type": "code",
   "execution_count": null,
   "metadata": {},
   "outputs": [],
   "source": []
  },
  {
   "cell_type": "code",
   "execution_count": null,
   "metadata": {},
   "outputs": [],
   "source": []
  },
  {
   "cell_type": "code",
   "execution_count": null,
   "metadata": {},
   "outputs": [],
   "source": []
  },
  {
   "cell_type": "code",
   "execution_count": null,
   "metadata": {},
   "outputs": [],
   "source": []
  },
  {
   "cell_type": "code",
   "execution_count": null,
   "metadata": {},
   "outputs": [],
   "source": []
  },
  {
   "cell_type": "code",
   "execution_count": null,
   "metadata": {},
   "outputs": [],
   "source": []
  },
  {
   "cell_type": "code",
   "execution_count": null,
   "metadata": {},
   "outputs": [],
   "source": []
  }
 ],
 "metadata": {
  "kernelspec": {
   "display_name": "R",
   "language": "R",
   "name": "ir"
  },
  "language_info": {
   "codemirror_mode": "r",
   "file_extension": ".r",
   "mimetype": "text/x-r-source",
   "name": "R",
   "pygments_lexer": "r",
   "version": "3.5.1"
  }
 },
 "nbformat": 4,
 "nbformat_minor": 2
}
