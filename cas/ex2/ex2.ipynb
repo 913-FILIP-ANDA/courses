{
 "cells": [
  {
   "cell_type": "markdown",
   "metadata": {},
   "source": [
    "# Exercise 1 Coprime (SAGE)\n",
    "Write your own function mycoprime(N) that returns all numbers x < N coprime to a number N.\n",
    "Compute mycoprime(100)."
   ]
  },
  {
   "cell_type": "code",
   "execution_count": 4,
   "metadata": {},
   "outputs": [
    {
     "data": {
      "text/plain": [
       "[3,\n",
       " 7,\n",
       " 9,\n",
       " 11,\n",
       " 13,\n",
       " 17,\n",
       " 19,\n",
       " 21,\n",
       " 23,\n",
       " 27,\n",
       " 29,\n",
       " 31,\n",
       " 33,\n",
       " 37,\n",
       " 39,\n",
       " 41,\n",
       " 43,\n",
       " 47,\n",
       " 49,\n",
       " 51,\n",
       " 53,\n",
       " 57,\n",
       " 59,\n",
       " 61,\n",
       " 63,\n",
       " 67,\n",
       " 69,\n",
       " 71,\n",
       " 73,\n",
       " 77,\n",
       " 79,\n",
       " 81,\n",
       " 83,\n",
       " 87,\n",
       " 89,\n",
       " 91,\n",
       " 93,\n",
       " 97,\n",
       " 99]"
      ]
     },
     "execution_count": 4,
     "metadata": {},
     "output_type": "execute_result"
    }
   ],
   "source": [
    "def mycoprime(N):\n",
    "    return [x for x in xrange(2, N) if gcd(x, N) == 1]\n",
    "\n",
    "mycoprime(100)"
   ]
  },
  {
   "cell_type": "markdown",
   "metadata": {},
   "source": [
    "# Exercise 2 Goldbach Conjecture (SAGE)\n",
    "\n",
    "1. Write a function that checks the following conjecture. If N is even and N > 2, then N can be\n",
    "written as the sum of two primes. Verify the conjecture for the first 1000 even integers.\n",
    "2. Write a function that returns for a given number N all such pairs of primes without any duplicate.\n",
    "Try it for 100."
   ]
  },
  {
   "cell_type": "code",
   "execution_count": 15,
   "metadata": {},
   "outputs": [],
   "source": [
    "def goldback_conjecture(N):\n",
    "    if N % 2 != 0:\n",
    "        raise \"If N is even and N > 2 it can be written as sum of two primes\"\n",
    "    for a in primes(N):\n",
    "        if is_prime(N - a):\n",
    "            return True\n",
    "    raise Exception(\"Conjecture is false for \" + str(N))\n",
    "\n",
    "for x in xrange(4, 1000, 2):\n",
    "    goldback_conjecture(x)"
   ]
  },
  {
   "cell_type": "code",
   "execution_count": 16,
   "metadata": {},
   "outputs": [
    {
     "data": {
      "text/plain": [
       "[(3, 97),\n",
       " (11, 89),\n",
       " (17, 83),\n",
       " (29, 71),\n",
       " (41, 59),\n",
       " (47, 53),\n",
       " (53, 47),\n",
       " (59, 41),\n",
       " (71, 29),\n",
       " (83, 17),\n",
       " (89, 11),\n",
       " (97, 3)]"
      ]
     },
     "execution_count": 16,
     "metadata": {},
     "output_type": "execute_result"
    }
   ],
   "source": [
    "def sum_of_primes(N):\n",
    "    for a in primes(N):\n",
    "        if is_prime(N - a):\n",
    "            yield (a, N - a)\n",
    "            \n",
    "list(sum_of_primes(100))"
   ]
  },
  {
   "cell_type": "code",
   "execution_count": null,
   "metadata": {},
   "outputs": [],
   "source": []
  }
 ],
 "metadata": {
  "kernelspec": {
   "display_name": "SageMath 8.9",
   "language": "sage",
   "name": "sagemath"
  },
  "language_info": {
   "codemirror_mode": {
    "name": "ipython",
    "version": 2
   },
   "file_extension": ".py",
   "mimetype": "text/x-python",
   "name": "python",
   "nbconvert_exporter": "python",
   "pygments_lexer": "ipython2",
   "version": "2.7.15"
  }
 },
 "nbformat": 4,
 "nbformat_minor": 2
}
