{
 "cells": [
  {
   "cell_type": "markdown",
   "metadata": {},
   "source": [
    "# Exercise 1 Coprime (SAGE)\n",
    "Write your own function mycoprime(N) that returns all numbers x < N coprime to a number N.\n",
    "Compute mycoprime(100)."
   ]
  },
  {
   "cell_type": "code",
   "execution_count": 4,
   "metadata": {},
   "outputs": [
    {
     "data": {
      "text/plain": [
       "[3,\n",
       " 7,\n",
       " 9,\n",
       " 11,\n",
       " 13,\n",
       " 17,\n",
       " 19,\n",
       " 21,\n",
       " 23,\n",
       " 27,\n",
       " 29,\n",
       " 31,\n",
       " 33,\n",
       " 37,\n",
       " 39,\n",
       " 41,\n",
       " 43,\n",
       " 47,\n",
       " 49,\n",
       " 51,\n",
       " 53,\n",
       " 57,\n",
       " 59,\n",
       " 61,\n",
       " 63,\n",
       " 67,\n",
       " 69,\n",
       " 71,\n",
       " 73,\n",
       " 77,\n",
       " 79,\n",
       " 81,\n",
       " 83,\n",
       " 87,\n",
       " 89,\n",
       " 91,\n",
       " 93,\n",
       " 97,\n",
       " 99]"
      ]
     },
     "execution_count": 4,
     "metadata": {},
     "output_type": "execute_result"
    }
   ],
   "source": [
    "def mycoprime(N):\n",
    "    return [x for x in xrange(2, N) if gcd(x, N) == 1]\n",
    "\n",
    "mycoprime(100)"
   ]
  },
  {
   "cell_type": "markdown",
   "metadata": {},
   "source": [
    "# Exercise 2 Goldbach Conjecture (SAGE)\n",
    "\n",
    "1. Write a function that checks the following conjecture. If N is even and N > 2, then N can be\n",
    "written as the sum of two primes. Verify the conjecture for the first 1000 even integers.\n",
    "2. Write a function that returns for a given number N all such pairs of primes without any duplicate.\n",
    "Try it for 100."
   ]
  },
  {
   "cell_type": "code",
   "execution_count": 15,
   "metadata": {},
   "outputs": [],
   "source": [
    "def goldback_conjecture(N):\n",
    "    if N % 2 != 0:\n",
    "        raise \"If N is even and N > 2 it can be written as sum of two primes\"\n",
    "    for a in primes(N):\n",
    "        if is_prime(N - a):\n",
    "            return True\n",
    "    raise Exception(\"Conjecture is false for \" + str(N))\n",
    "\n",
    "for x in xrange(4, 1000, 2):\n",
    "    goldback_conjecture(x)"
   ]
  },
  {
   "cell_type": "code",
   "execution_count": 16,
   "metadata": {},
   "outputs": [
    {
     "data": {
      "text/plain": [
       "[(3, 97),\n",
       " (11, 89),\n",
       " (17, 83),\n",
       " (29, 71),\n",
       " (41, 59),\n",
       " (47, 53),\n",
       " (53, 47),\n",
       " (59, 41),\n",
       " (71, 29),\n",
       " (83, 17),\n",
       " (89, 11),\n",
       " (97, 3)]"
      ]
     },
     "execution_count": 16,
     "metadata": {},
     "output_type": "execute_result"
    }
   ],
   "source": [
    "def sum_of_primes(N):\n",
    "    for a in primes(N):\n",
    "        if is_prime(N - a):\n",
    "            yield (a, N - a)\n",
    "            \n",
    "list(sum_of_primes(100))"
   ]
  },
  {
   "cell_type": "markdown",
   "metadata": {},
   "source": [
    "# Exercise 3 Multiplicative Group (SAGE)\n",
    "Given N, write a function that\n",
    "* Creates the ring $Z/NZ$.\n",
    "* Prints whether the group of units is cyclic or not.\n",
    "* Prints generators for the group of units.\n",
    "* Using these generators, creates a list containing all the elements in the group $(Z/NZ)*$ and prints it.\n",
    "* Tests Lagrange’s theorem for a random element of this group.\n",
    "(Hint: it may be better to look for sage functions for the second and third bullets.)"
   ]
  },
  {
   "cell_type": "code",
   "execution_count": 36,
   "metadata": {},
   "outputs": [
    {
     "name": "stdout",
     "output_type": "stream",
     "text": [
      "The group is cyclic\n",
      "('Generators and their order', [(3, 6)])\n",
      "('Values from generators', [1, 2, 3, 4, 5, 6])\n",
      "Lagrange's theorem is True\n",
      "The group is not cyclic\n",
      "('Generators and their order', [(23, 2), (45, 2), (57, 10)])\n",
      "('Values from generators', [1, 3, 5, 7, 9, 13, 15, 17, 19, 21, 23, 25, 27, 29, 31, 35, 37, 39, 41, 43, 45, 47, 49, 51, 53, 57, 59, 61, 63, 65, 67, 69, 71, 73, 75, 79, 81, 83, 85, 87])\n",
      "Lagrange's theorem is True\n"
     ]
    }
   ],
   "source": [
    "def groups(N):\n",
    "    F = Integers(N)\n",
    "    if F.multiplicative_group_is_cyclic():\n",
    "        print(\"The group is cyclic\")\n",
    "    else:\n",
    "        print(\"The group is not cyclic\")\n",
    "    gs = F.unit_gens()\n",
    "    print(\"Generators and their order\", [(g, g.multiplicative_order()) for g in gs])\n",
    "    G = [1]\n",
    "    for x in gs:\n",
    "        new = []\n",
    "        for i in xrange(1,x.multiplicative_order()):\n",
    "            for a in G:\n",
    "                new.append(x^i*a)\n",
    "        G.extend(new)\n",
    "    G.sort()\n",
    "    print(\"Values from generators\", G)\n",
    "    x = G[randint(0,len(G)-1)]\n",
    "    print \"Lagrange's theorem is \" + str(len(G) % x.multiplicative_order() == 0) \n",
    "    \n",
    "groups(7)\n",
    "groups(88) "
   ]
  },
  {
   "cell_type": "markdown",
   "metadata": {},
   "source": [
    "# Exercise 4 Perfect Power (SAGE)\n",
    "* Write a function that, given a number $n$, returns $(x, b)$, with $x, b ∈ Z$ and $b > 1$ such that $x^b = n$ if such a pair exists. If no such pair exists, return $false$.\n",
    "\n",
    "* Test your function with $58970095006532229779230122168823$, $123^{1237}$ and with $456456456$"
   ]
  },
  {
   "cell_type": "code",
   "execution_count": 49,
   "metadata": {},
   "outputs": [
    {
     "name": "stdout",
     "output_type": "stream",
     "text": [
      "(34567, 7)\n",
      "(123, 1237)\n",
      "False\n"
     ]
    }
   ],
   "source": [
    "# For a fixed base, it's easy to find the exponent. Now notice that the base \n",
    "\n",
    "# x ^ b = n => b log(x) = log(n)\n",
    "# => b <= log(n) / log(x). but x >= 1 => b <= log(n)\n",
    "\n",
    "# log(x) = log(n) / b => x = 2^(log(n) / b)\n",
    "\n",
    "def find_base(e, N):\n",
    "    st = 1\n",
    "    dr = 2 ^ (ceil(log(N, 2) / e))\n",
    "    while (st <= dr):\n",
    "        mid = (st + dr) // 2\n",
    "        op = mid ^ e\n",
    "        if op == N:\n",
    "            return mid\n",
    "        if op < N:\n",
    "            st = mid + 1\n",
    "        else:\n",
    "            dr = mid - 1\n",
    "\n",
    "    return False\n",
    "\n",
    "def perfect_power(N):\n",
    "    for b in xrange(1, ceil(log(N))):\n",
    "        if is_prime(b) and find_base(b, N) != False:\n",
    "            return (find_base(b, N), b)\n",
    "    return False\n",
    "\n",
    "print(perfect_power(58970095006532229779230122168823))\n",
    "print(perfect_power(123^1237))\n",
    "print(perfect_power(456456456))"
   ]
  },
  {
   "cell_type": "code",
   "execution_count": null,
   "metadata": {},
   "outputs": [],
   "source": []
  }
 ],
 "metadata": {
  "kernelspec": {
   "display_name": "SageMath 8.9",
   "language": "sage",
   "name": "sagemath"
  },
  "language_info": {
   "codemirror_mode": {
    "name": "ipython",
    "version": 2
   },
   "file_extension": ".py",
   "mimetype": "text/x-python",
   "name": "python",
   "nbconvert_exporter": "python",
   "pygments_lexer": "ipython2",
   "version": "2.7.15"
  }
 },
 "nbformat": 4,
 "nbformat_minor": 2
}
