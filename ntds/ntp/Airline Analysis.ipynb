{
 "cells": [
  {
   "cell_type": "markdown",
   "metadata": {},
   "source": [
    "# Airline Analysis"
   ]
  },
  {
   "cell_type": "markdown",
   "metadata": {},
   "source": [
    "## TODO:\n",
    "- get the distane of the edge based on longitude and latitude ✅\n",
    "- add all the information to the graph so we have an easy time calculating the measures. ✅\n",
    "- get list of graph theoretical measures to apply to airline networks:\n",
    "    - number and strength of hubs \n",
    "    - network robustness measures\n",
    "    - number of/ precense if paths\n",
    "    - diameter of the graph\n",
    "    - centrality measures\n",
    "    - spectrum of graph\n",
    "    - measure of correlation between country label\n",
    "    - how much in country/out of country ✅\n",
    "    - number of triangles in graph\n",
    "    - set weights if we have multiple fights to same place by same airline ✅\n",
    "    - get overlaping nodes functions. similarity of graph\n",
    "- get planes associated with each flight in route, so we can get number of passagers. May do later only for the biggest airlines, at end of analysis ❓"
   ]
  },
  {
   "cell_type": "markdown",
   "metadata": {},
   "source": [
    "Resources:\n",
    "\n",
    "Economics:\n",
    "http://www.oecd.org/daf/competition/airlinecompetition.htm\n",
    "\n",
    "Graph theoretical:\n",
    "https://beta.vu.nl/nl/Images/werkstuk-meer_tcm235-280356.pdf\n",
    "\n",
    "aircraft traffic data by main airport:\n",
    "https://datamarket.com/data/set/196g/aircraft-traffic-data-by-main-airport#!ds=196g!nto=6:ntp=b:ntq=3:ntr=1.1g.1u.7.z.a.j.v.1b.t.d.s.1n.12.p.8.b.y.e.19.17.1v.9.i.11.1f.1s.1a.1w.x.14.1l.1p.4.k.1r.g.1x.1c.f.15.q.1j.1t.l.1k.1h:nts=nf.rb&display=line\n",
    "\n",
    "\n",
    "\n"
   ]
  },
  {
   "cell_type": "markdown",
   "metadata": {},
   "source": [
    "### Loading the dataset:"
   ]
  },
  {
   "cell_type": "code",
   "execution_count": 1,
   "metadata": {},
   "outputs": [],
   "source": [
    "from  geopy.distance import distance #calculates distance based on coordinates\n",
    "\n",
    "import operator\n",
    "import numpy as np\n",
    "import pandas as pd\n",
    "import networkx as nx\n",
    "import matplotlib.pyplot as plt\n",
    "import seaborn as sns"
   ]
  },
  {
   "cell_type": "code",
   "execution_count": 2,
   "metadata": {},
   "outputs": [
    {
     "name": "stdout",
     "output_type": "stream",
     "text": [
      "Getting airports data\n",
      "Getting airlines data\n",
      "Getting routes data\n",
      "Getting planes data\n"
     ]
    }
   ],
   "source": [
    "!bash download_data.sh"
   ]
  },
  {
   "cell_type": "code",
   "execution_count": 3,
   "metadata": {},
   "outputs": [],
   "source": [
    "airports = pd.read_csv('airports.dat', header=None, names=\n",
    "                      [\"AirportID\",\"Name\", \"City\", \"Country\", \"IATA\", \"ICAO\",\n",
    "                       \"Latitude\", \"Longitude\", \"Altitude\", \"Timezone\", \"DST\", \"TzDatabaseTimeZone\",\n",
    "                       \"Type\", \"Source\"],\n",
    "                      na_values='\\\\N')\n",
    "airlines = pd.read_csv('airlines.dat', header=None, names=\n",
    "                       [\"AirlineID\", \"Name\", \"Alias\", \"IATA\", \"ICAO\", \"Callsign\", \"Country\", \"Active\"]\n",
    "                       ,na_values='\\\\N')\n",
    "routes = pd.read_csv('routes.dat', header=None, names=\n",
    "                     ['Airline', 'AirlineID', 'SourceAirport', 'SourceAirportID', 'DestinationAirport',\n",
    "                      'DestinationAirportID', 'Codeshare', 'Stops', 'Equipment'],\n",
    "                    na_values='\\\\N')\n",
    "planes = pd.read_csv('planes.dat', header=None, names=['Name', 'IATA code', 'ICAO code'])"
   ]
  },
  {
   "cell_type": "markdown",
   "metadata": {},
   "source": [
    "Only keep airports in that are both in routes and airports dataframes:"
   ]
  },
  {
   "cell_type": "code",
   "execution_count": 4,
   "metadata": {},
   "outputs": [],
   "source": [
    "valid_airports = set(airports.IATA).intersection(set(routes.SourceAirport).union(set(routes.DestinationAirport)))"
   ]
  },
  {
   "cell_type": "code",
   "execution_count": 5,
   "metadata": {},
   "outputs": [],
   "source": [
    "routes = routes[routes.SourceAirport.isin(valid_airports) &  routes.DestinationAirport.isin(valid_airports)]\n",
    "airports = airports[airports.IATA.isin(valid_airports)]"
   ]
  },
  {
   "cell_type": "markdown",
   "metadata": {},
   "source": [
    "Only keep airlines in intersection of that are both in the airline and in the routes dataframe :"
   ]
  },
  {
   "cell_type": "code",
   "execution_count": 6,
   "metadata": {},
   "outputs": [],
   "source": [
    "valid_airlines = set(airlines.AirlineID).intersection(set(routes.AirlineID))"
   ]
  },
  {
   "cell_type": "code",
   "execution_count": 7,
   "metadata": {},
   "outputs": [],
   "source": [
    "airlines = airlines[airlines.AirlineID.isin(valid_airlines)]\n",
    "routes = routes[routes.AirlineID.isin(valid_airlines)]"
   ]
  },
  {
   "cell_type": "markdown",
   "metadata": {},
   "source": [
    "We check that for each airline we have exactly one edge between a given source and destination none. This means that our graph will be unweighted. "
   ]
  },
  {
   "cell_type": "code",
   "execution_count": 8,
   "metadata": {},
   "outputs": [
    {
     "data": {
      "text/plain": [
       "True"
      ]
     },
     "execution_count": 8,
     "metadata": {},
     "output_type": "execute_result"
    }
   ],
   "source": [
    "routes_by_airline = routes[['SourceAirport', 'DestinationAirport', 'Airline']]\n",
    "routes_by_airline.drop_duplicates().shape == routes_by_airline.shape"
   ]
  },
  {
   "cell_type": "markdown",
   "metadata": {},
   "source": [
    "### Merging Routes with Airlines:"
   ]
  },
  {
   "cell_type": "markdown",
   "metadata": {},
   "source": [
    "We are only interessted in currently active airlines:"
   ]
  },
  {
   "cell_type": "code",
   "execution_count": 9,
   "metadata": {},
   "outputs": [],
   "source": [
    "merged_routes = pd.merge(airlines[airlines.Active == 'Y'], routes, on='AirlineID')"
   ]
  },
  {
   "cell_type": "code",
   "execution_count": 10,
   "metadata": {},
   "outputs": [
    {
     "data": {
      "text/html": [
       "<div>\n",
       "<style scoped>\n",
       "    .dataframe tbody tr th:only-of-type {\n",
       "        vertical-align: middle;\n",
       "    }\n",
       "\n",
       "    .dataframe tbody tr th {\n",
       "        vertical-align: top;\n",
       "    }\n",
       "\n",
       "    .dataframe thead th {\n",
       "        text-align: right;\n",
       "    }\n",
       "</style>\n",
       "<table border=\"1\" class=\"dataframe\">\n",
       "  <thead>\n",
       "    <tr style=\"text-align: right;\">\n",
       "      <th></th>\n",
       "      <th>AirlineID</th>\n",
       "      <th>Name</th>\n",
       "      <th>Alias</th>\n",
       "      <th>IATA</th>\n",
       "      <th>ICAO</th>\n",
       "      <th>Callsign</th>\n",
       "      <th>Country</th>\n",
       "      <th>Active</th>\n",
       "      <th>Airline</th>\n",
       "      <th>SourceAirport</th>\n",
       "      <th>SourceAirportID</th>\n",
       "      <th>DestinationAirport</th>\n",
       "      <th>DestinationAirportID</th>\n",
       "      <th>Codeshare</th>\n",
       "      <th>Stops</th>\n",
       "      <th>Equipment</th>\n",
       "    </tr>\n",
       "  </thead>\n",
       "  <tbody>\n",
       "    <tr>\n",
       "      <th>0</th>\n",
       "      <td>21</td>\n",
       "      <td>Aigle Azur</td>\n",
       "      <td>NaN</td>\n",
       "      <td>ZI</td>\n",
       "      <td>AAF</td>\n",
       "      <td>AIGLE AZUR</td>\n",
       "      <td>France</td>\n",
       "      <td>Y</td>\n",
       "      <td>ZI</td>\n",
       "      <td>AAE</td>\n",
       "      <td>220.0</td>\n",
       "      <td>MRS</td>\n",
       "      <td>1353.0</td>\n",
       "      <td>NaN</td>\n",
       "      <td>0</td>\n",
       "      <td>319</td>\n",
       "    </tr>\n",
       "  </tbody>\n",
       "</table>\n",
       "</div>"
      ],
      "text/plain": [
       "   AirlineID        Name Alias IATA ICAO    Callsign Country Active Airline  \\\n",
       "0         21  Aigle Azur   NaN   ZI  AAF  AIGLE AZUR  France      Y      ZI   \n",
       "\n",
       "  SourceAirport  SourceAirportID DestinationAirport  DestinationAirportID  \\\n",
       "0           AAE            220.0                MRS                1353.0   \n",
       "\n",
       "  Codeshare  Stops Equipment  \n",
       "0       NaN      0       319  "
      ]
     },
     "execution_count": 10,
     "metadata": {},
     "output_type": "execute_result"
    }
   ],
   "source": [
    "merged_routes.head(1)"
   ]
  },
  {
   "cell_type": "markdown",
   "metadata": {},
   "source": [
    "Getting whether the flight is international or not:"
   ]
  },
  {
   "cell_type": "code",
   "execution_count": 11,
   "metadata": {},
   "outputs": [],
   "source": [
    "Airport_to_country = airports.set_index('IATA').Country.to_dict()"
   ]
  },
  {
   "cell_type": "code",
   "execution_count": 12,
   "metadata": {},
   "outputs": [],
   "source": [
    "merged_routes['International'] = merged_routes.apply(\n",
    "    lambda x: 1 if Airport_to_country[x.SourceAirport] == Airport_to_country[x.DestinationAirport] else 0, axis=1)"
   ]
  },
  {
   "cell_type": "markdown",
   "metadata": {},
   "source": [
    "reset frames to create mappings:"
   ]
  },
  {
   "cell_type": "code",
   "execution_count": 13,
   "metadata": {},
   "outputs": [],
   "source": [
    "#only keep values we are interested in\n",
    "airports_filtered = airports[['Name', 'Country', 'Longitude', 'Latitude', 'Timezone', 'IATA', 'City']].copy()"
   ]
  },
  {
   "cell_type": "code",
   "execution_count": 14,
   "metadata": {},
   "outputs": [
    {
     "data": {
      "text/plain": [
       "True"
      ]
     },
     "execution_count": 14,
     "metadata": {},
     "output_type": "execute_result"
    }
   ],
   "source": [
    "#IATA airport id -> longitude latitude\n",
    "#airports_filtered.dropna(inplace=True)\n",
    "airports_filtered.set_index('IATA', inplace=True)\n",
    "\n",
    "airports_filtered.Longitude.dropna().shape == airports_filtered.Longitude.shape\n"
   ]
  },
  {
   "cell_type": "code",
   "execution_count": 15,
   "metadata": {},
   "outputs": [
    {
     "name": "stdout",
     "output_type": "stream",
     "text": [
      "(3221,)\n",
      "(3221,)\n"
     ]
    }
   ],
   "source": [
    "print(airports.Longitude.shape)\n",
    "print(airports_filtered.Longitude.shape)"
   ]
  },
  {
   "cell_type": "code",
   "execution_count": 16,
   "metadata": {},
   "outputs": [],
   "source": [
    "location_mapping = airports_filtered.apply(lambda x: [x.Longitude, x.Latitude], axis=1).to_dict()"
   ]
  },
  {
   "cell_type": "code",
   "execution_count": 17,
   "metadata": {},
   "outputs": [],
   "source": [
    "#Airline name -> airlineID\n",
    "airline_name_to_number = merged_routes.Name.drop_duplicates().reset_index(drop=True).to_dict()\n",
    "airline_name_to_number = {v: k for k, v in airline_name_to_number.items()}"
   ]
  },
  {
   "cell_type": "code",
   "execution_count": 18,
   "metadata": {},
   "outputs": [],
   "source": [
    "merged_routes['AirlineNbr'] = merged_routes.Name.map(airline_name_to_number)"
   ]
  },
  {
   "cell_type": "markdown",
   "metadata": {},
   "source": [
    "Fill in Nan values:"
   ]
  },
  {
   "cell_type": "code",
   "execution_count": 19,
   "metadata": {},
   "outputs": [],
   "source": [
    "merged_routes['Codeshare'] = merged_routes.Codeshare.fillna('N')"
   ]
  },
  {
   "cell_type": "markdown",
   "metadata": {},
   "source": [
    "### Getting the distance between two airports:"
   ]
  },
  {
   "cell_type": "markdown",
   "metadata": {},
   "source": [
    "Example of functionality:"
   ]
  },
  {
   "cell_type": "code",
   "execution_count": 20,
   "metadata": {},
   "outputs": [],
   "source": [
    "element = airports_filtered.apply(lambda x: (x.Latitude, x.Longitude), axis=1)[0]\n",
    "element2 = airports_filtered.apply(lambda x: (x.Latitude, x.Longitude), axis=1)[1]"
   ]
  },
  {
   "cell_type": "code",
   "execution_count": 21,
   "metadata": {},
   "outputs": [
    {
     "data": {
      "text/plain": [
       "106.2489585209369"
      ]
     },
     "execution_count": 21,
     "metadata": {},
     "output_type": "execute_result"
    }
   ],
   "source": [
    "distance(element, element2).km"
   ]
  },
  {
   "cell_type": "code",
   "execution_count": 22,
   "metadata": {},
   "outputs": [],
   "source": [
    "distance_mapping = airports_filtered.apply(lambda x: (x.Latitude, x.Longitude), axis=1).to_dict()"
   ]
  },
  {
   "cell_type": "markdown",
   "metadata": {},
   "source": [
    "Additing it to merged_routes:"
   ]
  },
  {
   "cell_type": "code",
   "execution_count": 23,
   "metadata": {},
   "outputs": [],
   "source": [
    "merged_routes['Distance'] = merged_routes.apply(lambda x: \n",
    "                distance(distance_mapping[x.SourceAirport], distance_mapping[x.DestinationAirport]).km, axis=1)"
   ]
  },
  {
   "cell_type": "code",
   "execution_count": 24,
   "metadata": {},
   "outputs": [],
   "source": [
    "relevant_columns = ['Name', 'ICAO', 'Country', 'SourceAirport', 'DestinationAirport', 'Codeshare',\n",
    "                    'Stops', 'Equipment', 'AirlineNbr', 'International', 'Distance']"
   ]
  },
  {
   "cell_type": "code",
   "execution_count": 25,
   "metadata": {},
   "outputs": [
    {
     "data": {
      "text/html": [
       "<div>\n",
       "<style scoped>\n",
       "    .dataframe tbody tr th:only-of-type {\n",
       "        vertical-align: middle;\n",
       "    }\n",
       "\n",
       "    .dataframe tbody tr th {\n",
       "        vertical-align: top;\n",
       "    }\n",
       "\n",
       "    .dataframe thead th {\n",
       "        text-align: right;\n",
       "    }\n",
       "</style>\n",
       "<table border=\"1\" class=\"dataframe\">\n",
       "  <thead>\n",
       "    <tr style=\"text-align: right;\">\n",
       "      <th></th>\n",
       "      <th>AirlineID</th>\n",
       "      <th>Name</th>\n",
       "      <th>Alias</th>\n",
       "      <th>IATA</th>\n",
       "      <th>ICAO</th>\n",
       "      <th>Callsign</th>\n",
       "      <th>Country</th>\n",
       "      <th>Active</th>\n",
       "      <th>Airline</th>\n",
       "      <th>SourceAirport</th>\n",
       "      <th>SourceAirportID</th>\n",
       "      <th>DestinationAirport</th>\n",
       "      <th>DestinationAirportID</th>\n",
       "      <th>Codeshare</th>\n",
       "      <th>Stops</th>\n",
       "      <th>Equipment</th>\n",
       "      <th>International</th>\n",
       "      <th>AirlineNbr</th>\n",
       "      <th>Distance</th>\n",
       "    </tr>\n",
       "  </thead>\n",
       "  <tbody>\n",
       "    <tr>\n",
       "      <th>0</th>\n",
       "      <td>21</td>\n",
       "      <td>Aigle Azur</td>\n",
       "      <td>NaN</td>\n",
       "      <td>ZI</td>\n",
       "      <td>AAF</td>\n",
       "      <td>AIGLE AZUR</td>\n",
       "      <td>France</td>\n",
       "      <td>Y</td>\n",
       "      <td>ZI</td>\n",
       "      <td>AAE</td>\n",
       "      <td>220.0</td>\n",
       "      <td>MRS</td>\n",
       "      <td>1353.0</td>\n",
       "      <td>N</td>\n",
       "      <td>0</td>\n",
       "      <td>319</td>\n",
       "      <td>0</td>\n",
       "      <td>0</td>\n",
       "      <td>767.018752</td>\n",
       "    </tr>\n",
       "    <tr>\n",
       "      <th>1</th>\n",
       "      <td>21</td>\n",
       "      <td>Aigle Azur</td>\n",
       "      <td>NaN</td>\n",
       "      <td>ZI</td>\n",
       "      <td>AAF</td>\n",
       "      <td>AIGLE AZUR</td>\n",
       "      <td>France</td>\n",
       "      <td>Y</td>\n",
       "      <td>ZI</td>\n",
       "      <td>AAE</td>\n",
       "      <td>220.0</td>\n",
       "      <td>ORY</td>\n",
       "      <td>1386.0</td>\n",
       "      <td>N</td>\n",
       "      <td>0</td>\n",
       "      <td>319</td>\n",
       "      <td>0</td>\n",
       "      <td>0</td>\n",
       "      <td>1393.826859</td>\n",
       "    </tr>\n",
       "    <tr>\n",
       "      <th>2</th>\n",
       "      <td>21</td>\n",
       "      <td>Aigle Azur</td>\n",
       "      <td>NaN</td>\n",
       "      <td>ZI</td>\n",
       "      <td>AAF</td>\n",
       "      <td>AIGLE AZUR</td>\n",
       "      <td>France</td>\n",
       "      <td>Y</td>\n",
       "      <td>ZI</td>\n",
       "      <td>ALG</td>\n",
       "      <td>210.0</td>\n",
       "      <td>CDG</td>\n",
       "      <td>1382.0</td>\n",
       "      <td>N</td>\n",
       "      <td>0</td>\n",
       "      <td>319</td>\n",
       "      <td>0</td>\n",
       "      <td>0</td>\n",
       "      <td>1369.896021</td>\n",
       "    </tr>\n",
       "    <tr>\n",
       "      <th>3</th>\n",
       "      <td>21</td>\n",
       "      <td>Aigle Azur</td>\n",
       "      <td>NaN</td>\n",
       "      <td>ZI</td>\n",
       "      <td>AAF</td>\n",
       "      <td>AIGLE AZUR</td>\n",
       "      <td>France</td>\n",
       "      <td>Y</td>\n",
       "      <td>ZI</td>\n",
       "      <td>ALG</td>\n",
       "      <td>210.0</td>\n",
       "      <td>LIL</td>\n",
       "      <td>1399.0</td>\n",
       "      <td>N</td>\n",
       "      <td>0</td>\n",
       "      <td>320</td>\n",
       "      <td>0</td>\n",
       "      <td>0</td>\n",
       "      <td>1541.323265</td>\n",
       "    </tr>\n",
       "    <tr>\n",
       "      <th>4</th>\n",
       "      <td>21</td>\n",
       "      <td>Aigle Azur</td>\n",
       "      <td>NaN</td>\n",
       "      <td>ZI</td>\n",
       "      <td>AAF</td>\n",
       "      <td>AIGLE AZUR</td>\n",
       "      <td>France</td>\n",
       "      <td>Y</td>\n",
       "      <td>ZI</td>\n",
       "      <td>ALG</td>\n",
       "      <td>210.0</td>\n",
       "      <td>LYS</td>\n",
       "      <td>1335.0</td>\n",
       "      <td>N</td>\n",
       "      <td>0</td>\n",
       "      <td>320 319</td>\n",
       "      <td>0</td>\n",
       "      <td>0</td>\n",
       "      <td>1015.406743</td>\n",
       "    </tr>\n",
       "  </tbody>\n",
       "</table>\n",
       "</div>"
      ],
      "text/plain": [
       "   AirlineID        Name Alias IATA ICAO    Callsign Country Active Airline  \\\n",
       "0         21  Aigle Azur   NaN   ZI  AAF  AIGLE AZUR  France      Y      ZI   \n",
       "1         21  Aigle Azur   NaN   ZI  AAF  AIGLE AZUR  France      Y      ZI   \n",
       "2         21  Aigle Azur   NaN   ZI  AAF  AIGLE AZUR  France      Y      ZI   \n",
       "3         21  Aigle Azur   NaN   ZI  AAF  AIGLE AZUR  France      Y      ZI   \n",
       "4         21  Aigle Azur   NaN   ZI  AAF  AIGLE AZUR  France      Y      ZI   \n",
       "\n",
       "  SourceAirport  SourceAirportID DestinationAirport  DestinationAirportID  \\\n",
       "0           AAE            220.0                MRS                1353.0   \n",
       "1           AAE            220.0                ORY                1386.0   \n",
       "2           ALG            210.0                CDG                1382.0   \n",
       "3           ALG            210.0                LIL                1399.0   \n",
       "4           ALG            210.0                LYS                1335.0   \n",
       "\n",
       "  Codeshare  Stops Equipment  International  AirlineNbr     Distance  \n",
       "0         N      0       319              0           0   767.018752  \n",
       "1         N      0       319              0           0  1393.826859  \n",
       "2         N      0       319              0           0  1369.896021  \n",
       "3         N      0       320              0           0  1541.323265  \n",
       "4         N      0   320 319              0           0  1015.406743  "
      ]
     },
     "execution_count": 25,
     "metadata": {},
     "output_type": "execute_result"
    }
   ],
   "source": [
    "merged_routes.head()"
   ]
  },
  {
   "cell_type": "code",
   "execution_count": 26,
   "metadata": {},
   "outputs": [
    {
     "data": {
      "text/html": [
       "<div>\n",
       "<style scoped>\n",
       "    .dataframe tbody tr th:only-of-type {\n",
       "        vertical-align: middle;\n",
       "    }\n",
       "\n",
       "    .dataframe tbody tr th {\n",
       "        vertical-align: top;\n",
       "    }\n",
       "\n",
       "    .dataframe thead th {\n",
       "        text-align: right;\n",
       "    }\n",
       "</style>\n",
       "<table border=\"1\" class=\"dataframe\">\n",
       "  <thead>\n",
       "    <tr style=\"text-align: right;\">\n",
       "      <th></th>\n",
       "      <th>Name</th>\n",
       "      <th>ICAO</th>\n",
       "      <th>Country</th>\n",
       "      <th>SourceAirport</th>\n",
       "      <th>DestinationAirport</th>\n",
       "      <th>Codeshare</th>\n",
       "      <th>Stops</th>\n",
       "      <th>Equipment</th>\n",
       "      <th>AirlineNbr</th>\n",
       "      <th>International</th>\n",
       "      <th>Distance</th>\n",
       "    </tr>\n",
       "  </thead>\n",
       "  <tbody>\n",
       "    <tr>\n",
       "      <th>0</th>\n",
       "      <td>Aigle Azur</td>\n",
       "      <td>AAF</td>\n",
       "      <td>France</td>\n",
       "      <td>AAE</td>\n",
       "      <td>MRS</td>\n",
       "      <td>N</td>\n",
       "      <td>0</td>\n",
       "      <td>319</td>\n",
       "      <td>0</td>\n",
       "      <td>0</td>\n",
       "      <td>767.018752</td>\n",
       "    </tr>\n",
       "    <tr>\n",
       "      <th>1</th>\n",
       "      <td>Aigle Azur</td>\n",
       "      <td>AAF</td>\n",
       "      <td>France</td>\n",
       "      <td>AAE</td>\n",
       "      <td>ORY</td>\n",
       "      <td>N</td>\n",
       "      <td>0</td>\n",
       "      <td>319</td>\n",
       "      <td>0</td>\n",
       "      <td>0</td>\n",
       "      <td>1393.826859</td>\n",
       "    </tr>\n",
       "    <tr>\n",
       "      <th>2</th>\n",
       "      <td>Aigle Azur</td>\n",
       "      <td>AAF</td>\n",
       "      <td>France</td>\n",
       "      <td>ALG</td>\n",
       "      <td>CDG</td>\n",
       "      <td>N</td>\n",
       "      <td>0</td>\n",
       "      <td>319</td>\n",
       "      <td>0</td>\n",
       "      <td>0</td>\n",
       "      <td>1369.896021</td>\n",
       "    </tr>\n",
       "    <tr>\n",
       "      <th>3</th>\n",
       "      <td>Aigle Azur</td>\n",
       "      <td>AAF</td>\n",
       "      <td>France</td>\n",
       "      <td>ALG</td>\n",
       "      <td>LIL</td>\n",
       "      <td>N</td>\n",
       "      <td>0</td>\n",
       "      <td>320</td>\n",
       "      <td>0</td>\n",
       "      <td>0</td>\n",
       "      <td>1541.323265</td>\n",
       "    </tr>\n",
       "    <tr>\n",
       "      <th>4</th>\n",
       "      <td>Aigle Azur</td>\n",
       "      <td>AAF</td>\n",
       "      <td>France</td>\n",
       "      <td>ALG</td>\n",
       "      <td>LYS</td>\n",
       "      <td>N</td>\n",
       "      <td>0</td>\n",
       "      <td>320 319</td>\n",
       "      <td>0</td>\n",
       "      <td>0</td>\n",
       "      <td>1015.406743</td>\n",
       "    </tr>\n",
       "  </tbody>\n",
       "</table>\n",
       "</div>"
      ],
      "text/plain": [
       "         Name ICAO Country SourceAirport DestinationAirport Codeshare  Stops  \\\n",
       "0  Aigle Azur  AAF  France           AAE                MRS         N      0   \n",
       "1  Aigle Azur  AAF  France           AAE                ORY         N      0   \n",
       "2  Aigle Azur  AAF  France           ALG                CDG         N      0   \n",
       "3  Aigle Azur  AAF  France           ALG                LIL         N      0   \n",
       "4  Aigle Azur  AAF  France           ALG                LYS         N      0   \n",
       "\n",
       "  Equipment  AirlineNbr  International     Distance  \n",
       "0       319           0              0   767.018752  \n",
       "1       319           0              0  1393.826859  \n",
       "2       319           0              0  1369.896021  \n",
       "3       320           0              0  1541.323265  \n",
       "4   320 319           0              0  1015.406743  "
      ]
     },
     "execution_count": 26,
     "metadata": {},
     "output_type": "execute_result"
    }
   ],
   "source": [
    "merged_routes[relevant_columns].head()"
   ]
  },
  {
   "cell_type": "code",
   "execution_count": 27,
   "metadata": {},
   "outputs": [],
   "source": [
    "merged_routes = merged_routes[relevant_columns]"
   ]
  },
  {
   "cell_type": "markdown",
   "metadata": {},
   "source": [
    "## Preliminary analysis of the biggest airlines:"
   ]
  },
  {
   "cell_type": "code",
   "execution_count": 28,
   "metadata": {},
   "outputs": [
    {
     "data": {
      "text/plain": [
       "Ryanair                    2482\n",
       "American Airlines          2340\n",
       "United Airlines            2172\n",
       "Delta Air Lines            1977\n",
       "US Airways                 1947\n",
       "China Southern Airlines    1420\n",
       "Air China                  1238\n",
       "China Eastern Airlines     1215\n",
       "Southwest Airlines         1140\n",
       "easyJet                    1130\n",
       "Name: Name, dtype: int64"
      ]
     },
     "execution_count": 28,
     "metadata": {},
     "output_type": "execute_result"
    }
   ],
   "source": [
    "merged_routes.Name.value_counts().head(10)"
   ]
  },
  {
   "cell_type": "code",
   "execution_count": 29,
   "metadata": {},
   "outputs": [
    {
     "data": {
      "image/png": "[encoded data removed]",
      "text/plain": [
       "<Figure size 432x288 with 1 Axes>"
      ]
     },
     "metadata": {},
     "output_type": "display_data"
    }
   ],
   "source": [
    "merged_routes.Name.value_counts().head(120).plot(kind='bar', color='b')\n",
    "_ = plt.xticks([])"
   ]
  },
  {
   "cell_type": "code",
   "execution_count": 30,
   "metadata": {},
   "outputs": [
    {
     "data": {
      "text/plain": [
       "<matplotlib.axes._subplots.AxesSubplot at 0x1a218a8d30>"
      ]
     },
     "execution_count": 30,
     "metadata": {},
     "output_type": "execute_result"
    },
    {
     "data": {
      "image/png": "[encoded data removed]",
      "text/plain": [
       "<Figure size 432x288 with 1 Axes>"
      ]
     },
     "metadata": {},
     "output_type": "display_data"
    }
   ],
   "source": [
    "merged_routes.Name.value_counts().plot(kind='hist', log=True, bins=20)"
   ]
  },
  {
   "cell_type": "code",
   "execution_count": 31,
   "metadata": {},
   "outputs": [
    {
     "data": {
      "text/plain": [
       "count     517.000000\n",
       "mean      125.947776\n",
       "std       276.469028\n",
       "min         1.000000\n",
       "25%        14.000000\n",
       "50%        34.000000\n",
       "75%       111.000000\n",
       "max      2482.000000\n",
       "Name: Name, dtype: float64"
      ]
     },
     "execution_count": 31,
     "metadata": {},
     "output_type": "execute_result"
    }
   ],
   "source": [
    "merged_routes.Name.value_counts().describe()"
   ]
  },
  {
   "cell_type": "code",
   "execution_count": 32,
   "metadata": {},
   "outputs": [],
   "source": [
    "reasonably_big_airlines = merged_routes.Name.value_counts()[merged_routes.Name.value_counts() > 50].index"
   ]
  },
  {
   "cell_type": "code",
   "execution_count": 33,
   "metadata": {},
   "outputs": [],
   "source": [
    "merged_routes = merged_routes[merged_routes.Name.isin(reasonably_big_airlines)]"
   ]
  },
  {
   "cell_type": "markdown",
   "metadata": {},
   "source": [
    "We look at a total of 212 airlines:"
   ]
  },
  {
   "cell_type": "code",
   "execution_count": 34,
   "metadata": {},
   "outputs": [
    {
     "data": {
      "text/plain": [
       "(211,)"
      ]
     },
     "execution_count": 34,
     "metadata": {},
     "output_type": "execute_result"
    }
   ],
   "source": [
    "merged_routes.Name.unique().shape"
   ]
  },
  {
   "cell_type": "markdown",
   "metadata": {},
   "source": [
    "### Meta-Data analysis"
   ]
  },
  {
   "cell_type": "markdown",
   "metadata": {},
   "source": [
    "Propotion of international to national flights"
   ]
  },
  {
   "cell_type": "code",
   "execution_count": 35,
   "metadata": {},
   "outputs": [
    {
     "data": {
      "text/plain": [
       "<matplotlib.axes._subplots.AxesSubplot at 0x1a21881ef0>"
      ]
     },
     "execution_count": 35,
     "metadata": {},
     "output_type": "execute_result"
    },
    {
     "data": {
      "image/png": "[encoded data removed]",
      "text/plain": [
       "<Figure size 432x288 with 1 Axes>"
      ]
     },
     "metadata": {},
     "output_type": "display_data"
    }
   ],
   "source": [
    "merged_routes.groupby('Name').International.mean().plot(kind='hist', bins=40)"
   ]
  },
  {
   "cell_type": "markdown",
   "metadata": {},
   "source": [
    "mean distance of flights:"
   ]
  },
  {
   "cell_type": "code",
   "execution_count": 36,
   "metadata": {},
   "outputs": [
    {
     "data": {
      "text/plain": [
       "<matplotlib.axes._subplots.AxesSubplot at 0x1a21b24c50>"
      ]
     },
     "execution_count": 36,
     "metadata": {},
     "output_type": "execute_result"
    },
    {
     "data": {
      "image/png": "[encoded data removed]",
      "text/plain": [
       "<Figure size 432x288 with 1 Axes>"
      ]
     },
     "metadata": {},
     "output_type": "display_data"
    }
   ],
   "source": [
    "merged_routes.groupby('Name').Distance.mean().plot(kind='hist', bins=30)"
   ]
  },
  {
   "cell_type": "markdown",
   "metadata": {},
   "source": [
    "Max distance of flights:"
   ]
  },
  {
   "cell_type": "code",
   "execution_count": 37,
   "metadata": {},
   "outputs": [
    {
     "data": {
      "text/plain": [
       "<matplotlib.axes._subplots.AxesSubplot at 0x1a218f04e0>"
      ]
     },
     "execution_count": 37,
     "metadata": {},
     "output_type": "execute_result"
    },
    {
     "data": {
      "image/png": "[encoded data removed]",
      "text/plain": [
       "<Figure size 432x288 with 1 Axes>"
      ]
     },
     "metadata": {},
     "output_type": "display_data"
    }
   ],
   "source": [
    "merged_routes.groupby('Name').Distance.max().plot(kind='hist', bins=30)"
   ]
  },
  {
   "cell_type": "code",
   "execution_count": 38,
   "metadata": {},
   "outputs": [
    {
     "data": {
      "text/plain": [
       "<matplotlib.collections.PathCollection at 0x1a218b39e8>"
      ]
     },
     "execution_count": 38,
     "metadata": {},
     "output_type": "execute_result"
    },
    {
     "data": {
      "image/png": "[encoded data removed]",
      "text/plain": [
       "<Figure size 432x288 with 1 Axes>"
      ]
     },
     "metadata": {},
     "output_type": "display_data"
    }
   ],
   "source": [
    "plt.scatter(merged_routes.groupby('Name').Distance.max(),  merged_routes.groupby('Name').Distance.min())"
   ]
  },
  {
   "cell_type": "code",
   "execution_count": 39,
   "metadata": {},
   "outputs": [
    {
     "data": {
      "text/plain": [
       "<matplotlib.collections.PathCollection at 0x1a218aa860>"
      ]
     },
     "execution_count": 39,
     "metadata": {},
     "output_type": "execute_result"
    },
    {
     "data": {
      "image/png": "[encoded data removed]",
      "text/plain": [
       "<Figure size 432x288 with 1 Axes>"
      ]
     },
     "metadata": {},
     "output_type": "display_data"
    }
   ],
   "source": [
    "plt.scatter(merged_routes.groupby('Name').Distance.median(),  merged_routes.groupby('Name').International.mean())"
   ]
  },
  {
   "cell_type": "markdown",
   "metadata": {},
   "source": [
    "shortest distance of flight:"
   ]
  },
  {
   "cell_type": "code",
   "execution_count": 40,
   "metadata": {},
   "outputs": [
    {
     "data": {
      "text/plain": [
       "<matplotlib.axes._subplots.AxesSubplot at 0x1a218aa400>"
      ]
     },
     "execution_count": 40,
     "metadata": {},
     "output_type": "execute_result"
    },
    {
     "data": {
      "image/png": "[encoded data removed]",
      "text/plain": [
       "<Figure size 432x288 with 1 Axes>"
      ]
     },
     "metadata": {},
     "output_type": "display_data"
    }
   ],
   "source": [
    "merged_routes.groupby('Name').Distance.min().plot(kind='hist', bins=30)"
   ]
  },
  {
   "cell_type": "markdown",
   "metadata": {},
   "source": [
    "Proportion of codeshare flights:"
   ]
  },
  {
   "cell_type": "code",
   "execution_count": 41,
   "metadata": {},
   "outputs": [],
   "source": [
    "merged_routes['Codeshare'] = merged_routes.Codeshare.map(lambda x: 1 if x == 'Y' else 0)"
   ]
  },
  {
   "cell_type": "code",
   "execution_count": 42,
   "metadata": {},
   "outputs": [
    {
     "data": {
      "text/plain": [
       "<matplotlib.axes._subplots.AxesSubplot at 0x1a21b1bbe0>"
      ]
     },
     "execution_count": 42,
     "metadata": {},
     "output_type": "execute_result"
    },
    {
     "data": {
      "image/png": "[encoded data removed]",
      "text/plain": [
       "<Figure size 432x288 with 1 Axes>"
      ]
     },
     "metadata": {},
     "output_type": "display_data"
    }
   ],
   "source": [
    "merged_routes.groupby('Name').Codeshare.mean().plot(kind='hist', bins=30)"
   ]
  },
  {
   "cell_type": "markdown",
   "metadata": {},
   "source": [
    "## Create graph of all airlines:\n",
    "\n",
    "Create graph with edge having airline associated to"
   ]
  },
  {
   "cell_type": "code",
   "execution_count": null,
   "metadata": {},
   "outputs": [],
   "source": [
    "biggest = merged_routes.AirlineNbr.value_counts().head(10).index"
   ]
  },
  {
   "cell_type": "code",
   "execution_count": null,
   "metadata": {},
   "outputs": [],
   "source": [
    "edge_attributes = ['Country', 'Name', 'AirlineNbr', 'Distance', 'International']"
   ]
  },
  {
   "cell_type": "code",
   "execution_count": null,
   "metadata": {},
   "outputs": [],
   "source": [
    "Airline_Graph = nx.from_pandas_edgelist(merged_routes[merged_routes.AirlineNbr.isin(biggest)], \n",
    "                                        source='SourceAirport', \n",
    "                                        target='DestinationAirport', \n",
    "                                        edge_attr=['Country', 'Name', 'AirlineNbr', 'Distance', 'International'])"
   ]
  },
  {
   "cell_type": "code",
   "execution_count": null,
   "metadata": {},
   "outputs": [],
   "source": [
    "color_edges = list(nx.get_edge_attributes(Airline_Graph, 'AirlineNbr').values())"
   ]
  },
  {
   "cell_type": "code",
   "execution_count": null,
   "metadata": {},
   "outputs": [],
   "source": [
    "nx.set_node_attributes(Airline_Graph, location_mapping, 'Location')"
   ]
  },
  {
   "cell_type": "code",
   "execution_count": null,
   "metadata": {},
   "outputs": [],
   "source": [
    "plt.figure(figsize=(20, 10))\n",
    "nx.draw_networkx(Airline_Graph, \n",
    "                 pos=nx.get_node_attributes(Airline_Graph, 'Location'), \n",
    "                 edge_color=color_edges, edge_cmap=plt.cm.Set2, node_size=0, labels=dict(), alpha=0.4)"
   ]
  },
  {
   "cell_type": "markdown",
   "metadata": {},
   "source": [
    "Example analysis of one graph:"
   ]
  },
  {
   "cell_type": "code",
   "execution_count": null,
   "metadata": {},
   "outputs": [],
   "source": [
    "def create_airline_network(airline):\n",
    "    df = merged_routes[merged_routes['Name'] == airline]\n",
    "    Airline_Graph = nx.from_pandas_edgelist(df, \n",
    "                                      source='SourceAirport', target='DestinationAirport', edge_attr=['Country'])\n",
    "    nx.set_node_attributes(Airline_Graph, location_mapping, 'Location')\n",
    "    return Airline_Graph"
   ]
  },
  {
   "cell_type": "code",
   "execution_count": null,
   "metadata": {},
   "outputs": [],
   "source": [
    "Ryanair = create_airline_network('Ryanair')"
   ]
  },
  {
   "cell_type": "code",
   "execution_count": null,
   "metadata": {},
   "outputs": [],
   "source": [
    "e, U = np.linalg.eigh(nx.normalized_laplacian_matrix(Ryanair).todense())"
   ]
  },
  {
   "cell_type": "code",
   "execution_count": null,
   "metadata": {},
   "outputs": [],
   "source": [
    "plt.plot(e)"
   ]
  },
  {
   "cell_type": "code",
   "execution_count": null,
   "metadata": {},
   "outputs": [],
   "source": [
    "Lufthansa = create_airline_network('Lufthansa')"
   ]
  },
  {
   "cell_type": "code",
   "execution_count": null,
   "metadata": {},
   "outputs": [],
   "source": [
    "e, U = np.linalg.eigh(nx.normalized_laplacian_matrix(Lufthansa).todense())\n",
    "plt.plot(e)"
   ]
  },
  {
   "cell_type": "code",
   "execution_count": null,
   "metadata": {},
   "outputs": [],
   "source": [
    "nx.node_connectivity(Ryanair)"
   ]
  },
  {
   "cell_type": "code",
   "execution_count": null,
   "metadata": {},
   "outputs": [],
   "source": [
    "plt.boxplot(nx.degree_centrality(Ryanair).values())"
   ]
  },
  {
   "cell_type": "code",
   "execution_count": null,
   "metadata": {},
   "outputs": [],
   "source": [
    "nx.average_clustering(Ryanair)"
   ]
  },
  {
   "cell_type": "code",
   "execution_count": null,
   "metadata": {},
   "outputs": [],
   "source": [
    "nx.k_nearest_neighbors(Ryanair)"
   ]
  },
  {
   "cell_type": "code",
   "execution_count": null,
   "metadata": {},
   "outputs": [],
   "source": [
    "nx.triangles(Ryanair)"
   ]
  },
  {
   "cell_type": "code",
   "execution_count": null,
   "metadata": {},
   "outputs": [],
   "source": [
    "nx.diameter(Ryanair)"
   ]
  },
  {
   "cell_type": "code",
   "execution_count": null,
   "metadata": {},
   "outputs": [],
   "source": [
    "nx.estrada_index(Ryanair)"
   ]
  },
  {
   "cell_type": "code",
   "execution_count": null,
   "metadata": {},
   "outputs": [],
   "source": [
    "nx.eccentricity(Ryanair)"
   ]
  },
  {
   "cell_type": "code",
   "execution_count": null,
   "metadata": {},
   "outputs": [],
   "source": [
    "merged_routes.Name.value_counts().plot(kind='box')"
   ]
  },
  {
   "cell_type": "code",
   "execution_count": null,
   "metadata": {},
   "outputs": [],
   "source": [
    "merged_routes.Name.value_counts().describe()"
   ]
  },
  {
   "cell_type": "code",
   "execution_count": null,
   "metadata": {},
   "outputs": [],
   "source": [
    "merged_routes.Name.value_counts()[merged_routes.Name.value_counts() > 100]"
   ]
  },
  {
   "cell_type": "code",
   "execution_count": null,
   "metadata": {},
   "outputs": [],
   "source": [
    "merged_routes.Country.value_counts().head(20)"
   ]
  },
  {
   "cell_type": "code",
   "execution_count": null,
   "metadata": {},
   "outputs": [],
   "source": []
  },
  {
   "cell_type": "code",
   "execution_count": null,
   "metadata": {},
   "outputs": [],
   "source": [
    "merged_routes.Codeshare.value_counts()"
   ]
  },
  {
   "cell_type": "code",
   "execution_count": null,
   "metadata": {},
   "outputs": [],
   "source": [
    "Low_cost = ['Southwest Airlines', 'Virgin America', 'AirAsia', 'Ryanair','easyJet', 'WestJet', 'Pegasus Airlines', 'Spirit Airlines', 'Mango']"
   ]
  },
  {
   "cell_type": "code",
   "execution_count": null,
   "metadata": {},
   "outputs": [],
   "source": [
    "merged_routes[merged_routes.Name.isin(Low_cost)].Name.value_counts()"
   ]
  },
  {
   "cell_type": "code",
   "execution_count": null,
   "metadata": {},
   "outputs": [],
   "source": [
    "merged_routes.head()"
   ]
  },
  {
   "cell_type": "code",
   "execution_count": null,
   "metadata": {
    "scrolled": false
   },
   "outputs": [],
   "source": [
    "def draw_airline_network(airline):\n",
    "    df = merged_routes[merged_routes['Name'] == airline]\n",
    "    Airline_Graph = nx.from_pandas_edgelist(df, \n",
    "                                      source='SourceAirport', target='DestinationAirport', edge_attr=['Country'])\n",
    "\n",
    "    plt.figure(figsize=(10, 10))\n",
    "    centrality = nx.betweenness_centrality(Airline_Graph)\n",
    "    size = np.array(list(centrality.values()))*1000\n",
    "    nx.draw_spring(Airline_Graph, node_size=size, width=0.1)\n",
    "    plt.title(airline)\n",
    "    plt.show()\n",
    "    e, U = np.linalg.eigh(nx.normalized_laplacian_matrix(Airline_Graph).todense())\n",
    "    plt.plot(e)\n",
    "    plt.show()\n",
    "    plt.plot(nx.laplacian_spectrum(Airline_Graph))\n",
    "    plt.show()\n",
    "    plt.boxplot(nx.degree_centrality(Airline_Graph).values())\n",
    "    plt.show()\n",
    "    "
   ]
  },
  {
   "cell_type": "code",
   "execution_count": null,
   "metadata": {
    "scrolled": false
   },
   "outputs": [],
   "source": [
    "for cheap in Low_cost:\n",
    "    draw_airline_network(cheap)"
   ]
  },
  {
   "cell_type": "code",
   "execution_count": null,
   "metadata": {},
   "outputs": [],
   "source": [
    "Best_Airlines = ['Singapore Airlines', 'Emirates', 'Lufthansa', 'Qatar Airways', 'Cathay Pacific']"
   ]
  },
  {
   "cell_type": "code",
   "execution_count": null,
   "metadata": {
    "scrolled": false
   },
   "outputs": [],
   "source": [
    "for best in Best_Airlines:\n",
    "    draw_airline_network(best)"
   ]
  },
  {
   "cell_type": "code",
   "execution_count": null,
   "metadata": {},
   "outputs": [],
   "source": [
    "Large_Airlines = ['Delta Air Lines', 'Air France', 'China Southern Airlines', 'Turkish Airlines', 'American Airlines']"
   ]
  },
  {
   "cell_type": "code",
   "execution_count": null,
   "metadata": {
    "scrolled": false
   },
   "outputs": [],
   "source": [
    "for best in Large_Airlines:\n",
    "    draw_airline_network(best)"
   ]
  },
  {
   "cell_type": "code",
   "execution_count": null,
   "metadata": {},
   "outputs": [],
   "source": [
    "merged_routes.Name.unique()"
   ]
  },
  {
   "cell_type": "code",
   "execution_count": null,
   "metadata": {},
   "outputs": [],
   "source": [
    "Chinese = ['China Southern Airlines', 'China Eastern Airlines', 'Air China']"
   ]
  },
  {
   "cell_type": "code",
   "execution_count": null,
   "metadata": {
    "scrolled": false
   },
   "outputs": [],
   "source": [
    "for best in Chinese:\n",
    "    draw_airline_network(best)"
   ]
  },
  {
   "cell_type": "markdown",
   "metadata": {},
   "source": [
    "## Adding in external information: for relected airlines - case study"
   ]
  },
  {
   "cell_type": "code",
   "execution_count": null,
   "metadata": {},
   "outputs": [],
   "source": [
    "Delays_data = pd.read_csv('🏬 AIRLINE LIST  ✈️  v0.3    by @levelsio _ CLICK PLANES IN THE PANE BELOW - Delays data (raw).csv')"
   ]
  },
  {
   "cell_type": "code",
   "execution_count": null,
   "metadata": {},
   "outputs": [],
   "source": [
    "Airline_list = pd.read_csv('🏬 AIRLINE LIST  ✈️  v0.3    by @levelsio _ CLICK PLANES IN THE PANE BELOW - 🏬 Airlines.csv')"
   ]
  },
  {
   "cell_type": "code",
   "execution_count": null,
   "metadata": {},
   "outputs": [],
   "source": [
    "set(Airline_list.name.map(lambda x: x.lower())).intersection(set(merged_routes.Name.map(lambda x: x.lower())))"
   ]
  },
  {
   "cell_type": "code",
   "execution_count": null,
   "metadata": {},
   "outputs": [],
   "source": [
    "merged_routes.Name.head()"
   ]
  },
  {
   "cell_type": "code",
   "execution_count": null,
   "metadata": {},
   "outputs": [],
   "source": [
    "set(Delays_data['On-time'].map(lambda x: x.lower())).intersection(set(merged_routes.Name.map(lambda x: x.lower())))"
   ]
  },
  {
   "cell_type": "markdown",
   "metadata": {},
   "source": [
    "# Networks Analysis"
   ]
  },
  {
   "cell_type": "code",
   "execution_count": null,
   "metadata": {},
   "outputs": [],
   "source": [
    "def airlines_network_analysis(airline):\n",
    "    \n",
    "    Airline_Graph = create_airline_network(airline)\n",
    "    \n",
    "    #Highlights hubs   \n",
    "    print(\"10% biggest airports of \", airline)\n",
    "    print()\n",
    "    deg = np.array(list(Airline_Graph.degree))\n",
    "    deg_value = deg[:,1]\n",
    "    deg_value = deg_value.astype(np.float)\n",
    "    plt.hist(deg_value, bins=50, )\n",
    "    perc = np.percentile(deg_value, q=90)\n",
    "    biggest_hubs = np.array(np.where(deg_value > perc))\n",
    "\n",
    "    for i in np.nditer(biggest_hubs):\n",
    "        print(airports[airports.IATA == deg[i,0]].Name.to_string(index=False), \"has degree : \", deg[i,1])\n",
    "    \n",
    "    \n",
    "    #Diameter,robustness\n",
    "    print(\"Anlysis\")\n",
    "    print(\"Number of edges : \", Airline_Graph.number_of_edges())\n",
    "    print(\"Number of nodes\", Airline_Graph.number_of_nodes(), \"nodes\")\n",
    "    print(\"Diameter : \", nx.diameter(Airline_Graph))\n",
    "    print(\"Node connectivity\", nx.node_connectivity(Airline_Graph))\n",
    "    \n",
    "    eb = nx.edge_betweenness_centrality(Airline_Graph)\n",
    "    key, value = max(eb.items(), key = lambda p: p[1])\n",
    "    print(\"Max edge betwenness: \",value , \"from \", airports[airports.IATA == key[0]].Name.to_string(index=False), \"to\", airports[airports.IATA == key[1]].Name.to_string(index=False))\n",
    "    key, value = min(eb.items(), key = lambda p: p[1])\n",
    "    print(\"Min edge betwenness: \",value, \"from\", airports[airports.IATA == key[0]].Name.to_string(index=False), \"to\", airports[airports.IATA == key[1]].Name.to_string(index=False))\n",
    "                                                            \n",
    "    nb = nx.betweenness_centrality(Airline_Graph)\n",
    "    key, value = max(nb.items(), key= lambda p:p[1])\n",
    "    print(\"Max node betwenness: \", value, \"airport\",airports[airports.IATA == key].Name.to_string(index=False))\n",
    "    key, value = min(nb.items(), key= lambda p:p[1])\n",
    "    print(\"Min node betwenness: \", value, \"airport\",airports[airports.IATA == key].Name.to_string(index=False))\n",
    "    print(\"Algbraic connectivity: \", nx.algebraic_connectivity(Airline_Graph))\n",
    "    \n",
    "    #Plot network\n",
    "    draw_airline_network(airline)\n",
    "    "
   ]
  },
  {
   "cell_type": "code",
   "execution_count": null,
   "metadata": {},
   "outputs": [],
   "source": [
    "airlines_network_analysis('Ryanair')"
   ]
  },
  {
   "cell_type": "code",
   "execution_count": null,
   "metadata": {},
   "outputs": [],
   "source": [
    "airlines_network_analysis('Turkish Airlines')"
   ]
  },
  {
   "cell_type": "markdown",
   "metadata": {},
   "source": [
    "## Competition Analysis"
   ]
  },
  {
   "cell_type": "code",
   "execution_count": 47,
   "metadata": {},
   "outputs": [
    {
     "data": {
      "text/html": [
       "<div>\n",
       "<style scoped>\n",
       "    .dataframe tbody tr th:only-of-type {\n",
       "        vertical-align: middle;\n",
       "    }\n",
       "\n",
       "    .dataframe tbody tr th {\n",
       "        vertical-align: top;\n",
       "    }\n",
       "\n",
       "    .dataframe thead th {\n",
       "        text-align: right;\n",
       "    }\n",
       "</style>\n",
       "<table border=\"1\" class=\"dataframe\">\n",
       "  <thead>\n",
       "    <tr style=\"text-align: right;\">\n",
       "      <th></th>\n",
       "      <th>Name</th>\n",
       "      <th>ICAO</th>\n",
       "      <th>Country</th>\n",
       "      <th>SourceAirport</th>\n",
       "      <th>DestinationAirport</th>\n",
       "      <th>Codeshare</th>\n",
       "      <th>Stops</th>\n",
       "      <th>Equipment</th>\n",
       "      <th>AirlineNbr</th>\n",
       "      <th>International</th>\n",
       "      <th>Distance</th>\n",
       "      <th>SourceCountry</th>\n",
       "      <th>DestinationCountry</th>\n",
       "    </tr>\n",
       "  </thead>\n",
       "  <tbody>\n",
       "    <tr>\n",
       "      <th>0</th>\n",
       "      <td>Aigle Azur</td>\n",
       "      <td>AAF</td>\n",
       "      <td>France</td>\n",
       "      <td>AAE</td>\n",
       "      <td>MRS</td>\n",
       "      <td>0</td>\n",
       "      <td>0</td>\n",
       "      <td>319</td>\n",
       "      <td>0</td>\n",
       "      <td>0</td>\n",
       "      <td>767.018752</td>\n",
       "      <td>Algeria</td>\n",
       "      <td>France</td>\n",
       "    </tr>\n",
       "    <tr>\n",
       "      <th>1</th>\n",
       "      <td>Aigle Azur</td>\n",
       "      <td>AAF</td>\n",
       "      <td>France</td>\n",
       "      <td>AAE</td>\n",
       "      <td>ORY</td>\n",
       "      <td>0</td>\n",
       "      <td>0</td>\n",
       "      <td>319</td>\n",
       "      <td>0</td>\n",
       "      <td>0</td>\n",
       "      <td>1393.826859</td>\n",
       "      <td>Algeria</td>\n",
       "      <td>France</td>\n",
       "    </tr>\n",
       "    <tr>\n",
       "      <th>2</th>\n",
       "      <td>Aigle Azur</td>\n",
       "      <td>AAF</td>\n",
       "      <td>France</td>\n",
       "      <td>ALG</td>\n",
       "      <td>CDG</td>\n",
       "      <td>0</td>\n",
       "      <td>0</td>\n",
       "      <td>319</td>\n",
       "      <td>0</td>\n",
       "      <td>0</td>\n",
       "      <td>1369.896021</td>\n",
       "      <td>Algeria</td>\n",
       "      <td>France</td>\n",
       "    </tr>\n",
       "    <tr>\n",
       "      <th>3</th>\n",
       "      <td>Aigle Azur</td>\n",
       "      <td>AAF</td>\n",
       "      <td>France</td>\n",
       "      <td>ALG</td>\n",
       "      <td>LIL</td>\n",
       "      <td>0</td>\n",
       "      <td>0</td>\n",
       "      <td>320</td>\n",
       "      <td>0</td>\n",
       "      <td>0</td>\n",
       "      <td>1541.323265</td>\n",
       "      <td>Algeria</td>\n",
       "      <td>France</td>\n",
       "    </tr>\n",
       "    <tr>\n",
       "      <th>4</th>\n",
       "      <td>Aigle Azur</td>\n",
       "      <td>AAF</td>\n",
       "      <td>France</td>\n",
       "      <td>ALG</td>\n",
       "      <td>LYS</td>\n",
       "      <td>0</td>\n",
       "      <td>0</td>\n",
       "      <td>320 319</td>\n",
       "      <td>0</td>\n",
       "      <td>0</td>\n",
       "      <td>1015.406743</td>\n",
       "      <td>Algeria</td>\n",
       "      <td>France</td>\n",
       "    </tr>\n",
       "  </tbody>\n",
       "</table>\n",
       "</div>"
      ],
      "text/plain": [
       "         Name ICAO Country SourceAirport DestinationAirport  Codeshare  Stops  \\\n",
       "0  Aigle Azur  AAF  France           AAE                MRS          0      0   \n",
       "1  Aigle Azur  AAF  France           AAE                ORY          0      0   \n",
       "2  Aigle Azur  AAF  France           ALG                CDG          0      0   \n",
       "3  Aigle Azur  AAF  France           ALG                LIL          0      0   \n",
       "4  Aigle Azur  AAF  France           ALG                LYS          0      0   \n",
       "\n",
       "  Equipment  AirlineNbr  International     Distance SourceCountry  \\\n",
       "0       319           0              0   767.018752       Algeria   \n",
       "1       319           0              0  1393.826859       Algeria   \n",
       "2       319           0              0  1369.896021       Algeria   \n",
       "3       320           0              0  1541.323265       Algeria   \n",
       "4   320 319           0              0  1015.406743       Algeria   \n",
       "\n",
       "  DestinationCountry  \n",
       "0             France  \n",
       "1             France  \n",
       "2             France  \n",
       "3             France  \n",
       "4             France  "
      ]
     },
     "execution_count": 47,
     "metadata": {},
     "output_type": "execute_result"
    }
   ],
   "source": [
    "merged_routes['SourceCountry'] = merged_routes.apply(lambda x: \n",
    "                Airport_to_country[x.SourceAirport], axis=1)\n",
    "merged_routes['DestinationCountry'] = merged_routes.apply(lambda x: \n",
    "                Airport_to_country[x.DestinationAirport], axis=1)\n",
    "merged_routes.head(5)"
   ]
  },
  {
   "cell_type": "code",
   "execution_count": 54,
   "metadata": {},
   "outputs": [
    {
     "data": {
      "text/html": [
       "<div>\n",
       "<style scoped>\n",
       "    .dataframe tbody tr th:only-of-type {\n",
       "        vertical-align: middle;\n",
       "    }\n",
       "\n",
       "    .dataframe tbody tr th {\n",
       "        vertical-align: top;\n",
       "    }\n",
       "\n",
       "    .dataframe thead th {\n",
       "        text-align: right;\n",
       "    }\n",
       "</style>\n",
       "<table border=\"1\" class=\"dataframe\">\n",
       "  <thead>\n",
       "    <tr style=\"text-align: right;\">\n",
       "      <th></th>\n",
       "      <th>Name</th>\n",
       "      <th>ICAO</th>\n",
       "      <th>Country</th>\n",
       "      <th>SourceAirport</th>\n",
       "      <th>DestinationAirport</th>\n",
       "      <th>Codeshare</th>\n",
       "      <th>Stops</th>\n",
       "      <th>Equipment</th>\n",
       "      <th>AirlineNbr</th>\n",
       "      <th>International</th>\n",
       "      <th>Distance</th>\n",
       "      <th>SourceCountry</th>\n",
       "      <th>DestinationCountry</th>\n",
       "    </tr>\n",
       "  </thead>\n",
       "  <tbody>\n",
       "  </tbody>\n",
       "</table>\n",
       "</div>"
      ],
      "text/plain": [
       "Empty DataFrame\n",
       "Columns: [Name, ICAO, Country, SourceAirport, DestinationAirport, Codeshare, Stops, Equipment, AirlineNbr, International, Distance, SourceCountry, DestinationCountry]\n",
       "Index: []"
      ]
     },
     "metadata": {},
     "output_type": "display_data"
    },
    {
     "data": {
      "text/html": [
       "<div>\n",
       "<style scoped>\n",
       "    .dataframe tbody tr th:only-of-type {\n",
       "        vertical-align: middle;\n",
       "    }\n",
       "\n",
       "    .dataframe tbody tr th {\n",
       "        vertical-align: top;\n",
       "    }\n",
       "\n",
       "    .dataframe thead th {\n",
       "        text-align: right;\n",
       "    }\n",
       "</style>\n",
       "<table border=\"1\" class=\"dataframe\">\n",
       "  <thead>\n",
       "    <tr style=\"text-align: right;\">\n",
       "      <th></th>\n",
       "      <th>Name</th>\n",
       "      <th>ICAO</th>\n",
       "      <th>Country</th>\n",
       "      <th>SourceAirport</th>\n",
       "      <th>DestinationAirport</th>\n",
       "      <th>Codeshare</th>\n",
       "      <th>Stops</th>\n",
       "      <th>Equipment</th>\n",
       "      <th>AirlineNbr</th>\n",
       "      <th>International</th>\n",
       "      <th>Distance</th>\n",
       "      <th>SourceCountry</th>\n",
       "      <th>DestinationCountry</th>\n",
       "    </tr>\n",
       "  </thead>\n",
       "  <tbody>\n",
       "  </tbody>\n",
       "</table>\n",
       "</div>"
      ],
      "text/plain": [
       "Empty DataFrame\n",
       "Columns: [Name, ICAO, Country, SourceAirport, DestinationAirport, Codeshare, Stops, Equipment, AirlineNbr, International, Distance, SourceCountry, DestinationCountry]\n",
       "Index: []"
      ]
     },
     "metadata": {},
     "output_type": "display_data"
    },
    {
     "data": {
      "text/html": [
       "<div>\n",
       "<style scoped>\n",
       "    .dataframe tbody tr th:only-of-type {\n",
       "        vertical-align: middle;\n",
       "    }\n",
       "\n",
       "    .dataframe tbody tr th {\n",
       "        vertical-align: top;\n",
       "    }\n",
       "\n",
       "    .dataframe thead th {\n",
       "        text-align: right;\n",
       "    }\n",
       "</style>\n",
       "<table border=\"1\" class=\"dataframe\">\n",
       "  <thead>\n",
       "    <tr style=\"text-align: right;\">\n",
       "      <th></th>\n",
       "      <th>Name</th>\n",
       "      <th>ICAO</th>\n",
       "      <th>Country</th>\n",
       "      <th>SourceAirport</th>\n",
       "      <th>DestinationAirport</th>\n",
       "      <th>Codeshare</th>\n",
       "      <th>Stops</th>\n",
       "      <th>Equipment</th>\n",
       "      <th>AirlineNbr</th>\n",
       "      <th>International</th>\n",
       "      <th>Distance</th>\n",
       "      <th>SourceCountry</th>\n",
       "      <th>DestinationCountry</th>\n",
       "    </tr>\n",
       "  </thead>\n",
       "  <tbody>\n",
       "  </tbody>\n",
       "</table>\n",
       "</div>"
      ],
      "text/plain": [
       "Empty DataFrame\n",
       "Columns: [Name, ICAO, Country, SourceAirport, DestinationAirport, Codeshare, Stops, Equipment, AirlineNbr, International, Distance, SourceCountry, DestinationCountry]\n",
       "Index: []"
      ]
     },
     "metadata": {},
     "output_type": "display_data"
    },
    {
     "data": {
      "text/html": [
       "<div>\n",
       "<style scoped>\n",
       "    .dataframe tbody tr th:only-of-type {\n",
       "        vertical-align: middle;\n",
       "    }\n",
       "\n",
       "    .dataframe tbody tr th {\n",
       "        vertical-align: top;\n",
       "    }\n",
       "\n",
       "    .dataframe thead th {\n",
       "        text-align: right;\n",
       "    }\n",
       "</style>\n",
       "<table border=\"1\" class=\"dataframe\">\n",
       "  <thead>\n",
       "    <tr style=\"text-align: right;\">\n",
       "      <th></th>\n",
       "      <th>Name</th>\n",
       "      <th>ICAO</th>\n",
       "      <th>Country</th>\n",
       "      <th>SourceAirport</th>\n",
       "      <th>DestinationAirport</th>\n",
       "      <th>Codeshare</th>\n",
       "      <th>Stops</th>\n",
       "      <th>Equipment</th>\n",
       "      <th>AirlineNbr</th>\n",
       "      <th>International</th>\n",
       "      <th>Distance</th>\n",
       "      <th>SourceCountry</th>\n",
       "      <th>DestinationCountry</th>\n",
       "    </tr>\n",
       "  </thead>\n",
       "  <tbody>\n",
       "  </tbody>\n",
       "</table>\n",
       "</div>"
      ],
      "text/plain": [
       "Empty DataFrame\n",
       "Columns: [Name, ICAO, Country, SourceAirport, DestinationAirport, Codeshare, Stops, Equipment, AirlineNbr, International, Distance, SourceCountry, DestinationCountry]\n",
       "Index: []"
      ]
     },
     "metadata": {},
     "output_type": "display_data"
    }
   ],
   "source": [
    "display(merged_routes[merged_routes['SourceCountry'].isna()])\n",
    "display(merged_routes[merged_routes['DestinationCountry'].isna()])\n",
    "\n",
    "display(merged_routes[merged_routes['SourceAirport'].isna()])\n",
    "display(merged_routes[merged_routes['DestinationAirport'].isna()])"
   ]
  },
  {
   "cell_type": "code",
   "execution_count": null,
   "metadata": {},
   "outputs": [],
   "source": [
    "def overlaps(route_a, route_b):\n",
    "    source_dist = distance(distance_mapping[route_a['SourceAirport']],\n",
    "                           distance_mapping[route_b['SourceAirport']]).km\n",
    "    dest_dist = distance(distance_mapping[route_a['DestinationAirport']],\n",
    "                         distance_mapping[route_b['DestinationAirport']]).km\n",
    "    return source_dist <= 100 and dest_dist <= 100\n",
    "\n",
    "\"\"\"\n",
    "Computed the overlap (competition) score between two airlines.\n",
    "It takes not only nodes into consideration but also the edges.\n",
    "So, if Airline A goes from Bucharest to Zurich and Airline B\n",
    "from Geneva to Zurich, based on this fact only, they are not\n",
    "competitors.\n",
    "\"\"\"\n",
    "def compute_overlap_score(airline_x, airline_y):\n",
    "    routes_x = merged_routes[merged_routes.Name == airline_x]\n",
    "    routes_y = merged_routes[merged_routes.Name == airline_y]\n",
    "    \n",
    "    score = 0\n",
    "    for i, row_x in routes_x.iterrows():\n",
    "        does_overlap = False\n",
    "        joined_routes = routes_y[(routes_y.SourceCountry == row_x['SourceCountry']) &\n",
    "                                 (routes_y.DestinationCountry == row_x['DestinationCountry'])]\n",
    "        for j, row_y in joined_routes.iterrows():\n",
    "            if overlaps(row_x, row_y):\n",
    "                does_overlap = True\n",
    "        if does_overlap:\n",
    "            score += 1\n",
    "    return score / len(routes_x)\n",
    "\n",
    "compute_overlap_score(\"Ryanair\", \"Wizz Air\")"
   ]
  },
  {
   "cell_type": "code",
   "execution_count": null,
   "metadata": {},
   "outputs": [],
   "source": [
    "\"\"\"\n",
    "Computed the overlap (competition) score between given airlines.\n",
    "It takes not only nodes into consideration but also the edges.\n",
    "So, if Airline A goes from Bucharest to Zurich and Airline B\n",
    "from Geneva to Zurich, based on this fact only, they are not\n",
    "competitors.\n",
    "\"\"\"\n",
    "def compute_overlap_scores(airline_list):\n",
    "    scores = []\n",
    "    for airline_a in airline_list:\n",
    "        for airline_b in airline_list:\n",
    "            scores.append([airline_a, airline_b, compute_overlap_score(airline_a, airline_b)])\n",
    "    return pd.DataFrame(scores, columns = ['AirlineA', 'AirlineB', 'Score'])"
   ]
  },
  {
   "cell_type": "code",
   "execution_count": null,
   "metadata": {},
   "outputs": [],
   "source": [
    "overlap_scores = compute_overlap_scores([\"Ryanair\", \"Wizz Air\"])\n",
    "sns.heatmap(overlap_scores.pivot(\"AirlineA\", \"AirlineB\", \"Score\"), cmap=\"YlGnBu\")"
   ]
  },
  {
   "cell_type": "code",
   "execution_count": null,
   "metadata": {},
   "outputs": [],
   "source": [
    "overlap_scores = compute_overlap_scores(Low_cost)\n",
    "sns.heatmap(overlap_scores.pivot(\"AirlineA\", \"AirlineB\", \"Score\"), cmap=\"YlGnBu\")"
   ]
  },
  {
   "cell_type": "code",
   "execution_count": null,
   "metadata": {},
   "outputs": [],
   "source": [
    "overlap_scores = compute_overlap_scores(Best_Airlines)\n",
    "sns.heatmap(overlap_scores.pivot(\"AirlineA\", \"AirlineB\", \"Score\"), cmap=\"YlGnBu\")"
   ]
  },
  {
   "cell_type": "code",
   "execution_count": null,
   "metadata": {},
   "outputs": [],
   "source": [
    "overlap_scores = compute_overlap_scores(Large_Airlines)\n",
    "sns.heatmap(overlap_scores.pivot(\"AirlineA\", \"AirlineB\", \"Score\"), cmap=\"YlGnBu\")"
   ]
  },
  {
   "cell_type": "code",
   "execution_count": null,
   "metadata": {},
   "outputs": [],
   "source": [
    "overlap_scores = compute_overlap_scores(Chinese)\n",
    "sns.heatmap(overlap_scores.pivot(\"AirlineA\", \"AirlineB\", \"Score\"), cmap=\"YlGnBu\")"
   ]
  },
  {
   "cell_type": "code",
   "execution_count": null,
   "metadata": {},
   "outputs": [],
   "source": [
    "overlap_scores = compute_overlap_scores(airlines.Name)\n",
    "sns.heatmap(overlap_scores.pivot(\"AirlineA\", \"AirlineB\", \"Score\"), cmap=\"YlGnBu\")"
   ]
  },
  {
   "cell_type": "code",
   "execution_count": 46,
   "metadata": {},
   "outputs": [
    {
     "data": {
      "text/html": [
       "<div>\n",
       "<style scoped>\n",
       "    .dataframe tbody tr th:only-of-type {\n",
       "        vertical-align: middle;\n",
       "    }\n",
       "\n",
       "    .dataframe tbody tr th {\n",
       "        vertical-align: top;\n",
       "    }\n",
       "\n",
       "    .dataframe thead th {\n",
       "        text-align: right;\n",
       "    }\n",
       "</style>\n",
       "<table border=\"1\" class=\"dataframe\">\n",
       "  <thead>\n",
       "    <tr style=\"text-align: right;\">\n",
       "      <th></th>\n",
       "      <th>Name</th>\n",
       "      <th>ICAO</th>\n",
       "      <th>Country</th>\n",
       "      <th>SourceAirport</th>\n",
       "      <th>DestinationAirport</th>\n",
       "      <th>Codeshare</th>\n",
       "      <th>Stops</th>\n",
       "      <th>Equipment</th>\n",
       "      <th>AirlineNbr</th>\n",
       "      <th>International</th>\n",
       "      <th>Distance</th>\n",
       "    </tr>\n",
       "  </thead>\n",
       "  <tbody>\n",
       "    <tr>\n",
       "      <th>0</th>\n",
       "      <td>Aigle Azur</td>\n",
       "      <td>AAF</td>\n",
       "      <td>France</td>\n",
       "      <td>AAE</td>\n",
       "      <td>MRS</td>\n",
       "      <td>0</td>\n",
       "      <td>0</td>\n",
       "      <td>319</td>\n",
       "      <td>0</td>\n",
       "      <td>0</td>\n",
       "      <td>767.018752</td>\n",
       "    </tr>\n",
       "    <tr>\n",
       "      <th>1</th>\n",
       "      <td>Aigle Azur</td>\n",
       "      <td>AAF</td>\n",
       "      <td>France</td>\n",
       "      <td>AAE</td>\n",
       "      <td>ORY</td>\n",
       "      <td>0</td>\n",
       "      <td>0</td>\n",
       "      <td>319</td>\n",
       "      <td>0</td>\n",
       "      <td>0</td>\n",
       "      <td>1393.826859</td>\n",
       "    </tr>\n",
       "    <tr>\n",
       "      <th>2</th>\n",
       "      <td>Aigle Azur</td>\n",
       "      <td>AAF</td>\n",
       "      <td>France</td>\n",
       "      <td>ALG</td>\n",
       "      <td>CDG</td>\n",
       "      <td>0</td>\n",
       "      <td>0</td>\n",
       "      <td>319</td>\n",
       "      <td>0</td>\n",
       "      <td>0</td>\n",
       "      <td>1369.896021</td>\n",
       "    </tr>\n",
       "    <tr>\n",
       "      <th>3</th>\n",
       "      <td>Aigle Azur</td>\n",
       "      <td>AAF</td>\n",
       "      <td>France</td>\n",
       "      <td>ALG</td>\n",
       "      <td>LIL</td>\n",
       "      <td>0</td>\n",
       "      <td>0</td>\n",
       "      <td>320</td>\n",
       "      <td>0</td>\n",
       "      <td>0</td>\n",
       "      <td>1541.323265</td>\n",
       "    </tr>\n",
       "    <tr>\n",
       "      <th>4</th>\n",
       "      <td>Aigle Azur</td>\n",
       "      <td>AAF</td>\n",
       "      <td>France</td>\n",
       "      <td>ALG</td>\n",
       "      <td>LYS</td>\n",
       "      <td>0</td>\n",
       "      <td>0</td>\n",
       "      <td>320 319</td>\n",
       "      <td>0</td>\n",
       "      <td>0</td>\n",
       "      <td>1015.406743</td>\n",
       "    </tr>\n",
       "    <tr>\n",
       "      <th>5</th>\n",
       "      <td>Aigle Azur</td>\n",
       "      <td>AAF</td>\n",
       "      <td>France</td>\n",
       "      <td>ALG</td>\n",
       "      <td>MRS</td>\n",
       "      <td>0</td>\n",
       "      <td>0</td>\n",
       "      <td>319</td>\n",
       "      <td>0</td>\n",
       "      <td>0</td>\n",
       "      <td>768.527296</td>\n",
       "    </tr>\n",
       "    <tr>\n",
       "      <th>6</th>\n",
       "      <td>Aigle Azur</td>\n",
       "      <td>AAF</td>\n",
       "      <td>France</td>\n",
       "      <td>ALG</td>\n",
       "      <td>ORY</td>\n",
       "      <td>0</td>\n",
       "      <td>0</td>\n",
       "      <td>320 319</td>\n",
       "      <td>0</td>\n",
       "      <td>0</td>\n",
       "      <td>1338.370829</td>\n",
       "    </tr>\n",
       "    <tr>\n",
       "      <th>7</th>\n",
       "      <td>Aigle Azur</td>\n",
       "      <td>AAF</td>\n",
       "      <td>France</td>\n",
       "      <td>ALG</td>\n",
       "      <td>TLS</td>\n",
       "      <td>0</td>\n",
       "      <td>0</td>\n",
       "      <td>320 319</td>\n",
       "      <td>0</td>\n",
       "      <td>0</td>\n",
       "      <td>786.314943</td>\n",
       "    </tr>\n",
       "    <tr>\n",
       "      <th>8</th>\n",
       "      <td>Aigle Azur</td>\n",
       "      <td>AAF</td>\n",
       "      <td>France</td>\n",
       "      <td>BJA</td>\n",
       "      <td>MRS</td>\n",
       "      <td>0</td>\n",
       "      <td>0</td>\n",
       "      <td>320</td>\n",
       "      <td>0</td>\n",
       "      <td>0</td>\n",
       "      <td>747.082675</td>\n",
       "    </tr>\n",
       "    <tr>\n",
       "      <th>9</th>\n",
       "      <td>Aigle Azur</td>\n",
       "      <td>AAF</td>\n",
       "      <td>France</td>\n",
       "      <td>BJA</td>\n",
       "      <td>ORY</td>\n",
       "      <td>0</td>\n",
       "      <td>0</td>\n",
       "      <td>320 319</td>\n",
       "      <td>0</td>\n",
       "      <td>0</td>\n",
       "      <td>1352.151328</td>\n",
       "    </tr>\n",
       "    <tr>\n",
       "      <th>10</th>\n",
       "      <td>Aigle Azur</td>\n",
       "      <td>AAF</td>\n",
       "      <td>France</td>\n",
       "      <td>BKO</td>\n",
       "      <td>ORY</td>\n",
       "      <td>0</td>\n",
       "      <td>0</td>\n",
       "      <td>320</td>\n",
       "      <td>0</td>\n",
       "      <td>0</td>\n",
       "      <td>4124.790001</td>\n",
       "    </tr>\n",
       "    <tr>\n",
       "      <th>11</th>\n",
       "      <td>Aigle Azur</td>\n",
       "      <td>AAF</td>\n",
       "      <td>France</td>\n",
       "      <td>BSK</td>\n",
       "      <td>ORY</td>\n",
       "      <td>0</td>\n",
       "      <td>0</td>\n",
       "      <td>319</td>\n",
       "      <td>0</td>\n",
       "      <td>0</td>\n",
       "      <td>1571.791054</td>\n",
       "    </tr>\n",
       "    <tr>\n",
       "      <th>12</th>\n",
       "      <td>Aigle Azur</td>\n",
       "      <td>AAF</td>\n",
       "      <td>France</td>\n",
       "      <td>CDG</td>\n",
       "      <td>ALG</td>\n",
       "      <td>0</td>\n",
       "      <td>0</td>\n",
       "      <td>319</td>\n",
       "      <td>0</td>\n",
       "      <td>0</td>\n",
       "      <td>1369.896021</td>\n",
       "    </tr>\n",
       "    <tr>\n",
       "      <th>13</th>\n",
       "      <td>Aigle Azur</td>\n",
       "      <td>AAF</td>\n",
       "      <td>France</td>\n",
       "      <td>CDG</td>\n",
       "      <td>FAO</td>\n",
       "      <td>0</td>\n",
       "      <td>0</td>\n",
       "      <td>319</td>\n",
       "      <td>0</td>\n",
       "      <td>0</td>\n",
       "      <td>1581.447209</td>\n",
       "    </tr>\n",
       "    <tr>\n",
       "      <th>14</th>\n",
       "      <td>Aigle Azur</td>\n",
       "      <td>AAF</td>\n",
       "      <td>France</td>\n",
       "      <td>CDG</td>\n",
       "      <td>ORN</td>\n",
       "      <td>0</td>\n",
       "      <td>0</td>\n",
       "      <td>319</td>\n",
       "      <td>0</td>\n",
       "      <td>0</td>\n",
       "      <td>1509.675943</td>\n",
       "    </tr>\n",
       "    <tr>\n",
       "      <th>15</th>\n",
       "      <td>Aigle Azur</td>\n",
       "      <td>AAF</td>\n",
       "      <td>France</td>\n",
       "      <td>CZL</td>\n",
       "      <td>LYS</td>\n",
       "      <td>0</td>\n",
       "      <td>0</td>\n",
       "      <td>320</td>\n",
       "      <td>0</td>\n",
       "      <td>0</td>\n",
       "      <td>1057.315394</td>\n",
       "    </tr>\n",
       "    <tr>\n",
       "      <th>16</th>\n",
       "      <td>Aigle Azur</td>\n",
       "      <td>AAF</td>\n",
       "      <td>France</td>\n",
       "      <td>CZL</td>\n",
       "      <td>MRS</td>\n",
       "      <td>0</td>\n",
       "      <td>0</td>\n",
       "      <td>319</td>\n",
       "      <td>0</td>\n",
       "      <td>0</td>\n",
       "      <td>804.275925</td>\n",
       "    </tr>\n",
       "    <tr>\n",
       "      <th>17</th>\n",
       "      <td>Aigle Azur</td>\n",
       "      <td>AAF</td>\n",
       "      <td>France</td>\n",
       "      <td>CZL</td>\n",
       "      <td>ORY</td>\n",
       "      <td>0</td>\n",
       "      <td>0</td>\n",
       "      <td>319</td>\n",
       "      <td>0</td>\n",
       "      <td>0</td>\n",
       "      <td>1425.358565</td>\n",
       "    </tr>\n",
       "    <tr>\n",
       "      <th>18</th>\n",
       "      <td>Aigle Azur</td>\n",
       "      <td>AAF</td>\n",
       "      <td>France</td>\n",
       "      <td>DJE</td>\n",
       "      <td>ORY</td>\n",
       "      <td>0</td>\n",
       "      <td>0</td>\n",
       "      <td>320</td>\n",
       "      <td>0</td>\n",
       "      <td>0</td>\n",
       "      <td>1790.052877</td>\n",
       "    </tr>\n",
       "    <tr>\n",
       "      <th>19</th>\n",
       "      <td>Aigle Azur</td>\n",
       "      <td>AAF</td>\n",
       "      <td>France</td>\n",
       "      <td>FAO</td>\n",
       "      <td>CDG</td>\n",
       "      <td>0</td>\n",
       "      <td>0</td>\n",
       "      <td>319</td>\n",
       "      <td>0</td>\n",
       "      <td>0</td>\n",
       "      <td>1581.447209</td>\n",
       "    </tr>\n",
       "    <tr>\n",
       "      <th>20</th>\n",
       "      <td>Aigle Azur</td>\n",
       "      <td>AAF</td>\n",
       "      <td>France</td>\n",
       "      <td>FNC</td>\n",
       "      <td>ORY</td>\n",
       "      <td>0</td>\n",
       "      <td>0</td>\n",
       "      <td>320</td>\n",
       "      <td>0</td>\n",
       "      <td>0</td>\n",
       "      <td>2391.848817</td>\n",
       "    </tr>\n",
       "    <tr>\n",
       "      <th>21</th>\n",
       "      <td>Aigle Azur</td>\n",
       "      <td>AAF</td>\n",
       "      <td>France</td>\n",
       "      <td>LIL</td>\n",
       "      <td>ALG</td>\n",
       "      <td>0</td>\n",
       "      <td>0</td>\n",
       "      <td>320</td>\n",
       "      <td>0</td>\n",
       "      <td>0</td>\n",
       "      <td>1541.323265</td>\n",
       "    </tr>\n",
       "    <tr>\n",
       "      <th>22</th>\n",
       "      <td>Aigle Azur</td>\n",
       "      <td>AAF</td>\n",
       "      <td>France</td>\n",
       "      <td>LIL</td>\n",
       "      <td>ORN</td>\n",
       "      <td>0</td>\n",
       "      <td>0</td>\n",
       "      <td>320</td>\n",
       "      <td>0</td>\n",
       "      <td>0</td>\n",
       "      <td>1686.368246</td>\n",
       "    </tr>\n",
       "    <tr>\n",
       "      <th>23</th>\n",
       "      <td>Aigle Azur</td>\n",
       "      <td>AAF</td>\n",
       "      <td>France</td>\n",
       "      <td>LIS</td>\n",
       "      <td>ORY</td>\n",
       "      <td>0</td>\n",
       "      <td>0</td>\n",
       "      <td>319 320</td>\n",
       "      <td>0</td>\n",
       "      <td>0</td>\n",
       "      <td>1439.045418</td>\n",
       "    </tr>\n",
       "    <tr>\n",
       "      <th>24</th>\n",
       "      <td>Aigle Azur</td>\n",
       "      <td>AAF</td>\n",
       "      <td>France</td>\n",
       "      <td>LYS</td>\n",
       "      <td>ALG</td>\n",
       "      <td>0</td>\n",
       "      <td>0</td>\n",
       "      <td>320 319</td>\n",
       "      <td>0</td>\n",
       "      <td>0</td>\n",
       "      <td>1015.406743</td>\n",
       "    </tr>\n",
       "    <tr>\n",
       "      <th>25</th>\n",
       "      <td>Aigle Azur</td>\n",
       "      <td>AAF</td>\n",
       "      <td>France</td>\n",
       "      <td>LYS</td>\n",
       "      <td>CZL</td>\n",
       "      <td>0</td>\n",
       "      <td>0</td>\n",
       "      <td>320</td>\n",
       "      <td>0</td>\n",
       "      <td>0</td>\n",
       "      <td>1057.315394</td>\n",
       "    </tr>\n",
       "    <tr>\n",
       "      <th>26</th>\n",
       "      <td>Aigle Azur</td>\n",
       "      <td>AAF</td>\n",
       "      <td>France</td>\n",
       "      <td>LYS</td>\n",
       "      <td>ORN</td>\n",
       "      <td>0</td>\n",
       "      <td>0</td>\n",
       "      <td>320</td>\n",
       "      <td>0</td>\n",
       "      <td>0</td>\n",
       "      <td>1220.154378</td>\n",
       "    </tr>\n",
       "    <tr>\n",
       "      <th>27</th>\n",
       "      <td>Aigle Azur</td>\n",
       "      <td>AAF</td>\n",
       "      <td>France</td>\n",
       "      <td>LYS</td>\n",
       "      <td>QSF</td>\n",
       "      <td>0</td>\n",
       "      <td>0</td>\n",
       "      <td>320</td>\n",
       "      <td>0</td>\n",
       "      <td>0</td>\n",
       "      <td>1060.473523</td>\n",
       "    </tr>\n",
       "    <tr>\n",
       "      <th>28</th>\n",
       "      <td>Aigle Azur</td>\n",
       "      <td>AAF</td>\n",
       "      <td>France</td>\n",
       "      <td>MRS</td>\n",
       "      <td>AAE</td>\n",
       "      <td>0</td>\n",
       "      <td>0</td>\n",
       "      <td>319</td>\n",
       "      <td>0</td>\n",
       "      <td>0</td>\n",
       "      <td>767.018752</td>\n",
       "    </tr>\n",
       "    <tr>\n",
       "      <th>29</th>\n",
       "      <td>Aigle Azur</td>\n",
       "      <td>AAF</td>\n",
       "      <td>France</td>\n",
       "      <td>MRS</td>\n",
       "      <td>ALG</td>\n",
       "      <td>0</td>\n",
       "      <td>0</td>\n",
       "      <td>319</td>\n",
       "      <td>0</td>\n",
       "      <td>0</td>\n",
       "      <td>768.527296</td>\n",
       "    </tr>\n",
       "    <tr>\n",
       "      <th>...</th>\n",
       "      <td>...</td>\n",
       "      <td>...</td>\n",
       "      <td>...</td>\n",
       "      <td>...</td>\n",
       "      <td>...</td>\n",
       "      <td>...</td>\n",
       "      <td>...</td>\n",
       "      <td>...</td>\n",
       "      <td>...</td>\n",
       "      <td>...</td>\n",
       "      <td>...</td>\n",
       "    </tr>\n",
       "    <tr>\n",
       "      <th>65080</th>\n",
       "      <td>World Scale Airlines</td>\n",
       "      <td>WSS</td>\n",
       "      <td>United States</td>\n",
       "      <td>KAD</td>\n",
       "      <td>LOS</td>\n",
       "      <td>0</td>\n",
       "      <td>0</td>\n",
       "      <td>CR9</td>\n",
       "      <td>515</td>\n",
       "      <td>1</td>\n",
       "      <td>633.353286</td>\n",
       "    </tr>\n",
       "    <tr>\n",
       "      <th>65081</th>\n",
       "      <td>World Scale Airlines</td>\n",
       "      <td>WSS</td>\n",
       "      <td>United States</td>\n",
       "      <td>KAN</td>\n",
       "      <td>ABV</td>\n",
       "      <td>0</td>\n",
       "      <td>0</td>\n",
       "      <td>DH4</td>\n",
       "      <td>515</td>\n",
       "      <td>1</td>\n",
       "      <td>363.580158</td>\n",
       "    </tr>\n",
       "    <tr>\n",
       "      <th>65082</th>\n",
       "      <td>World Scale Airlines</td>\n",
       "      <td>WSS</td>\n",
       "      <td>United States</td>\n",
       "      <td>KAN</td>\n",
       "      <td>LOS</td>\n",
       "      <td>0</td>\n",
       "      <td>0</td>\n",
       "      <td>CR9</td>\n",
       "      <td>515</td>\n",
       "      <td>1</td>\n",
       "      <td>832.217919</td>\n",
       "    </tr>\n",
       "    <tr>\n",
       "      <th>65083</th>\n",
       "      <td>World Scale Airlines</td>\n",
       "      <td>WSS</td>\n",
       "      <td>United States</td>\n",
       "      <td>LHR</td>\n",
       "      <td>LOS</td>\n",
       "      <td>1</td>\n",
       "      <td>0</td>\n",
       "      <td>332</td>\n",
       "      <td>515</td>\n",
       "      <td>0</td>\n",
       "      <td>4989.364250</td>\n",
       "    </tr>\n",
       "    <tr>\n",
       "      <th>65084</th>\n",
       "      <td>World Scale Airlines</td>\n",
       "      <td>WSS</td>\n",
       "      <td>United States</td>\n",
       "      <td>LOS</td>\n",
       "      <td>ABB</td>\n",
       "      <td>0</td>\n",
       "      <td>0</td>\n",
       "      <td>73G</td>\n",
       "      <td>515</td>\n",
       "      <td>1</td>\n",
       "      <td>372.261147</td>\n",
       "    </tr>\n",
       "    <tr>\n",
       "      <th>65085</th>\n",
       "      <td>World Scale Airlines</td>\n",
       "      <td>WSS</td>\n",
       "      <td>United States</td>\n",
       "      <td>LOS</td>\n",
       "      <td>ABJ</td>\n",
       "      <td>0</td>\n",
       "      <td>0</td>\n",
       "      <td>CR9</td>\n",
       "      <td>515</td>\n",
       "      <td>0</td>\n",
       "      <td>815.574419</td>\n",
       "    </tr>\n",
       "    <tr>\n",
       "      <th>65086</th>\n",
       "      <td>World Scale Airlines</td>\n",
       "      <td>WSS</td>\n",
       "      <td>United States</td>\n",
       "      <td>LOS</td>\n",
       "      <td>ABV</td>\n",
       "      <td>0</td>\n",
       "      <td>0</td>\n",
       "      <td>738 73G</td>\n",
       "      <td>515</td>\n",
       "      <td>1</td>\n",
       "      <td>511.084491</td>\n",
       "    </tr>\n",
       "    <tr>\n",
       "      <th>65087</th>\n",
       "      <td>World Scale Airlines</td>\n",
       "      <td>WSS</td>\n",
       "      <td>United States</td>\n",
       "      <td>LOS</td>\n",
       "      <td>ACC</td>\n",
       "      <td>0</td>\n",
       "      <td>0</td>\n",
       "      <td>73G 738</td>\n",
       "      <td>515</td>\n",
       "      <td>0</td>\n",
       "      <td>400.782399</td>\n",
       "    </tr>\n",
       "    <tr>\n",
       "      <th>65088</th>\n",
       "      <td>World Scale Airlines</td>\n",
       "      <td>WSS</td>\n",
       "      <td>United States</td>\n",
       "      <td>LOS</td>\n",
       "      <td>BNI</td>\n",
       "      <td>0</td>\n",
       "      <td>0</td>\n",
       "      <td>73G</td>\n",
       "      <td>515</td>\n",
       "      <td>1</td>\n",
       "      <td>253.669638</td>\n",
       "    </tr>\n",
       "    <tr>\n",
       "      <th>65089</th>\n",
       "      <td>World Scale Airlines</td>\n",
       "      <td>WSS</td>\n",
       "      <td>United States</td>\n",
       "      <td>LOS</td>\n",
       "      <td>CBQ</td>\n",
       "      <td>0</td>\n",
       "      <td>0</td>\n",
       "      <td>73G</td>\n",
       "      <td>515</td>\n",
       "      <td>1</td>\n",
       "      <td>584.142662</td>\n",
       "    </tr>\n",
       "    <tr>\n",
       "      <th>65090</th>\n",
       "      <td>World Scale Airlines</td>\n",
       "      <td>WSS</td>\n",
       "      <td>United States</td>\n",
       "      <td>LOS</td>\n",
       "      <td>COO</td>\n",
       "      <td>0</td>\n",
       "      <td>0</td>\n",
       "      <td>CR9 73G</td>\n",
       "      <td>515</td>\n",
       "      <td>0</td>\n",
       "      <td>106.447175</td>\n",
       "    </tr>\n",
       "    <tr>\n",
       "      <th>65091</th>\n",
       "      <td>World Scale Airlines</td>\n",
       "      <td>WSS</td>\n",
       "      <td>United States</td>\n",
       "      <td>LOS</td>\n",
       "      <td>ENU</td>\n",
       "      <td>0</td>\n",
       "      <td>0</td>\n",
       "      <td>73G</td>\n",
       "      <td>515</td>\n",
       "      <td>1</td>\n",
       "      <td>469.182348</td>\n",
       "    </tr>\n",
       "    <tr>\n",
       "      <th>65092</th>\n",
       "      <td>World Scale Airlines</td>\n",
       "      <td>WSS</td>\n",
       "      <td>United States</td>\n",
       "      <td>LOS</td>\n",
       "      <td>FNA</td>\n",
       "      <td>0</td>\n",
       "      <td>0</td>\n",
       "      <td>73G</td>\n",
       "      <td>515</td>\n",
       "      <td>0</td>\n",
       "      <td>1836.282186</td>\n",
       "    </tr>\n",
       "    <tr>\n",
       "      <th>65093</th>\n",
       "      <td>World Scale Airlines</td>\n",
       "      <td>WSS</td>\n",
       "      <td>United States</td>\n",
       "      <td>LOS</td>\n",
       "      <td>JFK</td>\n",
       "      <td>1</td>\n",
       "      <td>0</td>\n",
       "      <td>345</td>\n",
       "      <td>515</td>\n",
       "      <td>0</td>\n",
       "      <td>8449.292329</td>\n",
       "    </tr>\n",
       "    <tr>\n",
       "      <th>65094</th>\n",
       "      <td>World Scale Airlines</td>\n",
       "      <td>WSS</td>\n",
       "      <td>United States</td>\n",
       "      <td>LOS</td>\n",
       "      <td>JNB</td>\n",
       "      <td>0</td>\n",
       "      <td>0</td>\n",
       "      <td>332</td>\n",
       "      <td>515</td>\n",
       "      <td>0</td>\n",
       "      <td>4511.437771</td>\n",
       "    </tr>\n",
       "    <tr>\n",
       "      <th>65095</th>\n",
       "      <td>World Scale Airlines</td>\n",
       "      <td>WSS</td>\n",
       "      <td>United States</td>\n",
       "      <td>LOS</td>\n",
       "      <td>JOS</td>\n",
       "      <td>0</td>\n",
       "      <td>0</td>\n",
       "      <td>73G</td>\n",
       "      <td>515</td>\n",
       "      <td>1</td>\n",
       "      <td>698.922886</td>\n",
       "    </tr>\n",
       "    <tr>\n",
       "      <th>65096</th>\n",
       "      <td>World Scale Airlines</td>\n",
       "      <td>WSS</td>\n",
       "      <td>United States</td>\n",
       "      <td>LOS</td>\n",
       "      <td>KAD</td>\n",
       "      <td>0</td>\n",
       "      <td>0</td>\n",
       "      <td>CR9</td>\n",
       "      <td>515</td>\n",
       "      <td>1</td>\n",
       "      <td>633.353286</td>\n",
       "    </tr>\n",
       "    <tr>\n",
       "      <th>65097</th>\n",
       "      <td>World Scale Airlines</td>\n",
       "      <td>WSS</td>\n",
       "      <td>United States</td>\n",
       "      <td>LOS</td>\n",
       "      <td>KAN</td>\n",
       "      <td>0</td>\n",
       "      <td>0</td>\n",
       "      <td>DH4 CR9</td>\n",
       "      <td>515</td>\n",
       "      <td>1</td>\n",
       "      <td>832.217919</td>\n",
       "    </tr>\n",
       "    <tr>\n",
       "      <th>65098</th>\n",
       "      <td>World Scale Airlines</td>\n",
       "      <td>WSS</td>\n",
       "      <td>United States</td>\n",
       "      <td>LOS</td>\n",
       "      <td>LHR</td>\n",
       "      <td>1</td>\n",
       "      <td>0</td>\n",
       "      <td>332</td>\n",
       "      <td>515</td>\n",
       "      <td>0</td>\n",
       "      <td>4989.364250</td>\n",
       "    </tr>\n",
       "    <tr>\n",
       "      <th>65099</th>\n",
       "      <td>World Scale Airlines</td>\n",
       "      <td>WSS</td>\n",
       "      <td>United States</td>\n",
       "      <td>LOS</td>\n",
       "      <td>PHC</td>\n",
       "      <td>0</td>\n",
       "      <td>0</td>\n",
       "      <td>73G 738</td>\n",
       "      <td>515</td>\n",
       "      <td>1</td>\n",
       "      <td>437.397086</td>\n",
       "    </tr>\n",
       "    <tr>\n",
       "      <th>65100</th>\n",
       "      <td>World Scale Airlines</td>\n",
       "      <td>WSS</td>\n",
       "      <td>United States</td>\n",
       "      <td>LOS</td>\n",
       "      <td>QOW</td>\n",
       "      <td>0</td>\n",
       "      <td>0</td>\n",
       "      <td>73G CR9 DH4</td>\n",
       "      <td>515</td>\n",
       "      <td>1</td>\n",
       "      <td>448.516033</td>\n",
       "    </tr>\n",
       "    <tr>\n",
       "      <th>65101</th>\n",
       "      <td>World Scale Airlines</td>\n",
       "      <td>WSS</td>\n",
       "      <td>United States</td>\n",
       "      <td>LOS</td>\n",
       "      <td>QUO</td>\n",
       "      <td>0</td>\n",
       "      <td>0</td>\n",
       "      <td>CR9</td>\n",
       "      <td>515</td>\n",
       "      <td>1</td>\n",
       "      <td>561.164185</td>\n",
       "    </tr>\n",
       "    <tr>\n",
       "      <th>65102</th>\n",
       "      <td>World Scale Airlines</td>\n",
       "      <td>WSS</td>\n",
       "      <td>United States</td>\n",
       "      <td>PHC</td>\n",
       "      <td>ABV</td>\n",
       "      <td>0</td>\n",
       "      <td>0</td>\n",
       "      <td>73G</td>\n",
       "      <td>515</td>\n",
       "      <td>1</td>\n",
       "      <td>442.760105</td>\n",
       "    </tr>\n",
       "    <tr>\n",
       "      <th>65103</th>\n",
       "      <td>World Scale Airlines</td>\n",
       "      <td>WSS</td>\n",
       "      <td>United States</td>\n",
       "      <td>PHC</td>\n",
       "      <td>LOS</td>\n",
       "      <td>0</td>\n",
       "      <td>0</td>\n",
       "      <td>73G 738</td>\n",
       "      <td>515</td>\n",
       "      <td>1</td>\n",
       "      <td>437.397086</td>\n",
       "    </tr>\n",
       "    <tr>\n",
       "      <th>65104</th>\n",
       "      <td>World Scale Airlines</td>\n",
       "      <td>WSS</td>\n",
       "      <td>United States</td>\n",
       "      <td>QOW</td>\n",
       "      <td>ABV</td>\n",
       "      <td>0</td>\n",
       "      <td>0</td>\n",
       "      <td>73G DH4</td>\n",
       "      <td>515</td>\n",
       "      <td>1</td>\n",
       "      <td>395.940324</td>\n",
       "    </tr>\n",
       "    <tr>\n",
       "      <th>65105</th>\n",
       "      <td>World Scale Airlines</td>\n",
       "      <td>WSS</td>\n",
       "      <td>United States</td>\n",
       "      <td>QOW</td>\n",
       "      <td>LOS</td>\n",
       "      <td>0</td>\n",
       "      <td>0</td>\n",
       "      <td>73G CR9 DH4</td>\n",
       "      <td>515</td>\n",
       "      <td>1</td>\n",
       "      <td>448.516033</td>\n",
       "    </tr>\n",
       "    <tr>\n",
       "      <th>65106</th>\n",
       "      <td>World Scale Airlines</td>\n",
       "      <td>WSS</td>\n",
       "      <td>United States</td>\n",
       "      <td>QUO</td>\n",
       "      <td>LOS</td>\n",
       "      <td>0</td>\n",
       "      <td>0</td>\n",
       "      <td>CR9</td>\n",
       "      <td>515</td>\n",
       "      <td>1</td>\n",
       "      <td>561.164185</td>\n",
       "    </tr>\n",
       "    <tr>\n",
       "      <th>65107</th>\n",
       "      <td>World Scale Airlines</td>\n",
       "      <td>WSS</td>\n",
       "      <td>United States</td>\n",
       "      <td>ROB</td>\n",
       "      <td>ACC</td>\n",
       "      <td>0</td>\n",
       "      <td>0</td>\n",
       "      <td>738</td>\n",
       "      <td>515</td>\n",
       "      <td>0</td>\n",
       "      <td>1131.064244</td>\n",
       "    </tr>\n",
       "    <tr>\n",
       "      <th>65108</th>\n",
       "      <td>World Scale Airlines</td>\n",
       "      <td>WSS</td>\n",
       "      <td>United States</td>\n",
       "      <td>SKO</td>\n",
       "      <td>ABV</td>\n",
       "      <td>0</td>\n",
       "      <td>0</td>\n",
       "      <td>CR9 73G</td>\n",
       "      <td>515</td>\n",
       "      <td>1</td>\n",
       "      <td>487.330408</td>\n",
       "    </tr>\n",
       "    <tr>\n",
       "      <th>65109</th>\n",
       "      <td>World Scale Airlines</td>\n",
       "      <td>WSS</td>\n",
       "      <td>United States</td>\n",
       "      <td>YOL</td>\n",
       "      <td>ABV</td>\n",
       "      <td>0</td>\n",
       "      <td>0</td>\n",
       "      <td>CR9 73G</td>\n",
       "      <td>515</td>\n",
       "      <td>1</td>\n",
       "      <td>568.641822</td>\n",
       "    </tr>\n",
       "  </tbody>\n",
       "</table>\n",
       "<p>59197 rows × 11 columns</p>\n",
       "</div>"
      ],
      "text/plain": [
       "                       Name ICAO        Country SourceAirport  \\\n",
       "0                Aigle Azur  AAF         France           AAE   \n",
       "1                Aigle Azur  AAF         France           AAE   \n",
       "2                Aigle Azur  AAF         France           ALG   \n",
       "3                Aigle Azur  AAF         France           ALG   \n",
       "4                Aigle Azur  AAF         France           ALG   \n",
       "5                Aigle Azur  AAF         France           ALG   \n",
       "6                Aigle Azur  AAF         France           ALG   \n",
       "7                Aigle Azur  AAF         France           ALG   \n",
       "8                Aigle Azur  AAF         France           BJA   \n",
       "9                Aigle Azur  AAF         France           BJA   \n",
       "10               Aigle Azur  AAF         France           BKO   \n",
       "11               Aigle Azur  AAF         France           BSK   \n",
       "12               Aigle Azur  AAF         France           CDG   \n",
       "13               Aigle Azur  AAF         France           CDG   \n",
       "14               Aigle Azur  AAF         France           CDG   \n",
       "15               Aigle Azur  AAF         France           CZL   \n",
       "16               Aigle Azur  AAF         France           CZL   \n",
       "17               Aigle Azur  AAF         France           CZL   \n",
       "18               Aigle Azur  AAF         France           DJE   \n",
       "19               Aigle Azur  AAF         France           FAO   \n",
       "20               Aigle Azur  AAF         France           FNC   \n",
       "21               Aigle Azur  AAF         France           LIL   \n",
       "22               Aigle Azur  AAF         France           LIL   \n",
       "23               Aigle Azur  AAF         France           LIS   \n",
       "24               Aigle Azur  AAF         France           LYS   \n",
       "25               Aigle Azur  AAF         France           LYS   \n",
       "26               Aigle Azur  AAF         France           LYS   \n",
       "27               Aigle Azur  AAF         France           LYS   \n",
       "28               Aigle Azur  AAF         France           MRS   \n",
       "29               Aigle Azur  AAF         France           MRS   \n",
       "...                     ...  ...            ...           ...   \n",
       "65080  World Scale Airlines  WSS  United States           KAD   \n",
       "65081  World Scale Airlines  WSS  United States           KAN   \n",
       "65082  World Scale Airlines  WSS  United States           KAN   \n",
       "65083  World Scale Airlines  WSS  United States           LHR   \n",
       "65084  World Scale Airlines  WSS  United States           LOS   \n",
       "65085  World Scale Airlines  WSS  United States           LOS   \n",
       "65086  World Scale Airlines  WSS  United States           LOS   \n",
       "65087  World Scale Airlines  WSS  United States           LOS   \n",
       "65088  World Scale Airlines  WSS  United States           LOS   \n",
       "65089  World Scale Airlines  WSS  United States           LOS   \n",
       "65090  World Scale Airlines  WSS  United States           LOS   \n",
       "65091  World Scale Airlines  WSS  United States           LOS   \n",
       "65092  World Scale Airlines  WSS  United States           LOS   \n",
       "65093  World Scale Airlines  WSS  United States           LOS   \n",
       "65094  World Scale Airlines  WSS  United States           LOS   \n",
       "65095  World Scale Airlines  WSS  United States           LOS   \n",
       "65096  World Scale Airlines  WSS  United States           LOS   \n",
       "65097  World Scale Airlines  WSS  United States           LOS   \n",
       "65098  World Scale Airlines  WSS  United States           LOS   \n",
       "65099  World Scale Airlines  WSS  United States           LOS   \n",
       "65100  World Scale Airlines  WSS  United States           LOS   \n",
       "65101  World Scale Airlines  WSS  United States           LOS   \n",
       "65102  World Scale Airlines  WSS  United States           PHC   \n",
       "65103  World Scale Airlines  WSS  United States           PHC   \n",
       "65104  World Scale Airlines  WSS  United States           QOW   \n",
       "65105  World Scale Airlines  WSS  United States           QOW   \n",
       "65106  World Scale Airlines  WSS  United States           QUO   \n",
       "65107  World Scale Airlines  WSS  United States           ROB   \n",
       "65108  World Scale Airlines  WSS  United States           SKO   \n",
       "65109  World Scale Airlines  WSS  United States           YOL   \n",
       "\n",
       "      DestinationAirport  Codeshare  Stops    Equipment  AirlineNbr  \\\n",
       "0                    MRS          0      0          319           0   \n",
       "1                    ORY          0      0          319           0   \n",
       "2                    CDG          0      0          319           0   \n",
       "3                    LIL          0      0          320           0   \n",
       "4                    LYS          0      0      320 319           0   \n",
       "5                    MRS          0      0          319           0   \n",
       "6                    ORY          0      0      320 319           0   \n",
       "7                    TLS          0      0      320 319           0   \n",
       "8                    MRS          0      0          320           0   \n",
       "9                    ORY          0      0      320 319           0   \n",
       "10                   ORY          0      0          320           0   \n",
       "11                   ORY          0      0          319           0   \n",
       "12                   ALG          0      0          319           0   \n",
       "13                   FAO          0      0          319           0   \n",
       "14                   ORN          0      0          319           0   \n",
       "15                   LYS          0      0          320           0   \n",
       "16                   MRS          0      0          319           0   \n",
       "17                   ORY          0      0          319           0   \n",
       "18                   ORY          0      0          320           0   \n",
       "19                   CDG          0      0          319           0   \n",
       "20                   ORY          0      0          320           0   \n",
       "21                   ALG          0      0          320           0   \n",
       "22                   ORN          0      0          320           0   \n",
       "23                   ORY          0      0      319 320           0   \n",
       "24                   ALG          0      0      320 319           0   \n",
       "25                   CZL          0      0          320           0   \n",
       "26                   ORN          0      0          320           0   \n",
       "27                   QSF          0      0          320           0   \n",
       "28                   AAE          0      0          319           0   \n",
       "29                   ALG          0      0          319           0   \n",
       "...                  ...        ...    ...          ...         ...   \n",
       "65080                LOS          0      0          CR9         515   \n",
       "65081                ABV          0      0          DH4         515   \n",
       "65082                LOS          0      0          CR9         515   \n",
       "65083                LOS          1      0          332         515   \n",
       "65084                ABB          0      0          73G         515   \n",
       "65085                ABJ          0      0          CR9         515   \n",
       "65086                ABV          0      0      738 73G         515   \n",
       "65087                ACC          0      0      73G 738         515   \n",
       "65088                BNI          0      0          73G         515   \n",
       "65089                CBQ          0      0          73G         515   \n",
       "65090                COO          0      0      CR9 73G         515   \n",
       "65091                ENU          0      0          73G         515   \n",
       "65092                FNA          0      0          73G         515   \n",
       "65093                JFK          1      0          345         515   \n",
       "65094                JNB          0      0          332         515   \n",
       "65095                JOS          0      0          73G         515   \n",
       "65096                KAD          0      0          CR9         515   \n",
       "65097                KAN          0      0      DH4 CR9         515   \n",
       "65098                LHR          1      0          332         515   \n",
       "65099                PHC          0      0      73G 738         515   \n",
       "65100                QOW          0      0  73G CR9 DH4         515   \n",
       "65101                QUO          0      0          CR9         515   \n",
       "65102                ABV          0      0          73G         515   \n",
       "65103                LOS          0      0      73G 738         515   \n",
       "65104                ABV          0      0      73G DH4         515   \n",
       "65105                LOS          0      0  73G CR9 DH4         515   \n",
       "65106                LOS          0      0          CR9         515   \n",
       "65107                ACC          0      0          738         515   \n",
       "65108                ABV          0      0      CR9 73G         515   \n",
       "65109                ABV          0      0      CR9 73G         515   \n",
       "\n",
       "       International     Distance  \n",
       "0                  0   767.018752  \n",
       "1                  0  1393.826859  \n",
       "2                  0  1369.896021  \n",
       "3                  0  1541.323265  \n",
       "4                  0  1015.406743  \n",
       "5                  0   768.527296  \n",
       "6                  0  1338.370829  \n",
       "7                  0   786.314943  \n",
       "8                  0   747.082675  \n",
       "9                  0  1352.151328  \n",
       "10                 0  4124.790001  \n",
       "11                 0  1571.791054  \n",
       "12                 0  1369.896021  \n",
       "13                 0  1581.447209  \n",
       "14                 0  1509.675943  \n",
       "15                 0  1057.315394  \n",
       "16                 0   804.275925  \n",
       "17                 0  1425.358565  \n",
       "18                 0  1790.052877  \n",
       "19                 0  1581.447209  \n",
       "20                 0  2391.848817  \n",
       "21                 0  1541.323265  \n",
       "22                 0  1686.368246  \n",
       "23                 0  1439.045418  \n",
       "24                 0  1015.406743  \n",
       "25                 0  1057.315394  \n",
       "26                 0  1220.154378  \n",
       "27                 0  1060.473523  \n",
       "28                 0   767.018752  \n",
       "29                 0   768.527296  \n",
       "...              ...          ...  \n",
       "65080              1   633.353286  \n",
       "65081              1   363.580158  \n",
       "65082              1   832.217919  \n",
       "65083              0  4989.364250  \n",
       "65084              1   372.261147  \n",
       "65085              0   815.574419  \n",
       "65086              1   511.084491  \n",
       "65087              0   400.782399  \n",
       "65088              1   253.669638  \n",
       "65089              1   584.142662  \n",
       "65090              0   106.447175  \n",
       "65091              1   469.182348  \n",
       "65092              0  1836.282186  \n",
       "65093              0  8449.292329  \n",
       "65094              0  4511.437771  \n",
       "65095              1   698.922886  \n",
       "65096              1   633.353286  \n",
       "65097              1   832.217919  \n",
       "65098              0  4989.364250  \n",
       "65099              1   437.397086  \n",
       "65100              1   448.516033  \n",
       "65101              1   561.164185  \n",
       "65102              1   442.760105  \n",
       "65103              1   437.397086  \n",
       "65104              1   395.940324  \n",
       "65105              1   448.516033  \n",
       "65106              1   561.164185  \n",
       "65107              0  1131.064244  \n",
       "65108              1   487.330408  \n",
       "65109              1   568.641822  \n",
       "\n",
       "[59197 rows x 11 columns]"
      ]
     },
     "execution_count": 46,
     "metadata": {},
     "output_type": "execute_result"
    }
   ],
   "source": [
    "merged_routes"
   ]
  },
  {
   "cell_type": "code",
   "execution_count": null,
   "metadata": {},
   "outputs": [],
   "source": []
  }
 ],
 "metadata": {
  "kernelspec": {
   "display_name": "Python 3",
   "language": "python",
   "name": "python3"
  },
  "language_info": {
   "codemirror_mode": {
    "name": "ipython",
    "version": 3
   },
   "file_extension": ".py",
   "mimetype": "text/x-python",
   "name": "python",
   "nbconvert_exporter": "python",
   "pygments_lexer": "ipython3",
   "version": "3.7.0"
  }
 },
 "nbformat": 4,
 "nbformat_minor": 2
}
